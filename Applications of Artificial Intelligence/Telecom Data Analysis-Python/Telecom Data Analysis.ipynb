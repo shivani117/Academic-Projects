{
 "cells": [
  {
   "cell_type": "markdown",
   "metadata": {
    "colab_type": "text",
    "id": "0XPPwsb_36BR"
   },
   "source": [
    "# **EAI 6010 Applications of Artifical Intelligence**\n",
    "\n",
    "## **Week 2 - Machine Learning with scikit learn**\n",
    "\n",
    "Welcome to this week's class where you will immerse yourself in machine learning with Python. Using both `pandas` and `scikit learn`, we'll learn how to investigate and process data for machine learning and generate predictions on a telecom churn case study. In this session you will learn:\n",
    "\n",
    "- The different types of machine learning and when to use them.\n",
    "- How to apply data preprocessing for machine learning including feature engineering. \n",
    "- How to apply supervised machine learning models to generate predictions!\n",
    "\n",
    "\n",
    "## **The Dataset**\n",
    "\n",
    "The data set that we will use is called telco.csv and it is a data from the Telecommuncations industry. We shall first import the various packages that we will need to work on our problem. You will notice below that we have also imported the code snippet `from IPython.core.interactiveshell...` which will allow us to output multiple outputs from code in the same cell. Typically if you have multiple commands in the same cell, then the default in Jupyter is that it will display output only from the last line of code. \n",
    "As we go through the data exploration phase, we will observe the data idiosyncracies and note down these oservations\n",
    "\n",
    "The dataset to be used in this session is a CSV file named `telco.csv`, which contains data on telecom customers churning and some of their key behaviors. It contains the following columns:\n",
    "\n",
    "**Features**:\n",
    "\n",
    "- `customerID`: Unique identifier of a customer.\n",
    "- `gender`: Gender of customer.\n",
    "- `SeniorCitizen`: Binary variable indicating if customer is senior citizen.\n",
    "- `Partner`: Binary variable if customer has a partner.\n",
    "- `Dependents`: Binary variable if customer has dependent.\n",
    "- `tenure`: Number of weeks as a customer.\n",
    "- `PhoneService`: Whether customer has phone service.\n",
    "- `MultipleLines`: Whether customer has multiple lines.\n",
    "- `InternetService`: What type of internet service customer has (`\"DSL\"`, `\"Fiber optic\"`, `\"No\"`).\n",
    "- `OnlineSecurity`: Whether customer has online security service.\n",
    "- `OnlineBackup`: Whether customer has online backup service.\n",
    "- `DeviceProtection`: Whether customer has device protection service.\n",
    "- `TechSupport`: Whether customer has tech support service.\n",
    "- `StreamingTV`: Whether customer has TV streaming service.\n",
    "- `StreamingMovies`: Whether customer has movies streaming service.\n",
    "- `Contract`: Customer Contract Type (`'Month-to-month'`, `'One year'`, `'Two year'`).\n",
    "- `PaperlessBilling`: Whether paperless billing is enabled.\n",
    "- `PaymentMethod`: Payment method.\n",
    "- `MonthlyCharges`: Amount of monthly charges in $.\n",
    "- `TotalCharges`: Amount of total charges so far.\n",
    "\n",
    "**Target Variable**:\n",
    "\n",
    "- `Churn`: Whether customer `'Stayed'` or `'Churned'`.\n"
   ]
  },
  {
   "cell_type": "code",
   "execution_count": 4,
   "metadata": {
    "colab": {
     "base_uri": "https://localhost:8080/",
     "height": 71
    },
    "colab_type": "code",
    "id": "SUZGmwco35DZ",
    "outputId": "6f1ce260-56f9-45be-f624-370cfe058cce"
   },
   "outputs": [],
   "source": [
    "# Import pandas\n",
    "import numpy as np\n",
    "from scipy.stats import mode\n",
    "import scipy as sc\n",
    "import pandas as pd\n",
    "import matplotlib.pyplot as plt\n",
    "import seaborn as sns\n",
    "import numpy as np\n",
    "import sklearn\n",
    "from IPython.core.interactiveshell import InteractiveShell\n",
    "InteractiveShell.ast_node_interactivity = \"all\""
   ]
  },
  {
   "cell_type": "markdown",
   "metadata": {
    "colab_type": "text",
    "id": "T9QtPmGc0ivB"
   },
   "source": [
    "## **Data Exploration**"
   ]
  },
  {
   "cell_type": "code",
   "execution_count": 9,
   "metadata": {},
   "outputs": [
    {
     "name": "stdout",
     "output_type": "stream",
     "text": [
      "Collecting pandas-profiling\n",
      "  Using cached pandas_profiling-2.11.0-py2.py3-none-any.whl (243 kB)\n",
      "Collecting matplotlib>=3.2.0\n",
      "  Using cached matplotlib-3.3.4-cp37-cp37m-win_amd64.whl (8.5 MB)\n",
      "Requirement already satisfied: joblib in e:\\anaconda\\lib\\site-packages (from pandas-profiling) (0.14.1)\n",
      "Requirement already satisfied: jinja2>=2.11.1 in e:\\anaconda\\lib\\site-packages (from pandas-profiling) (2.11.1)\n",
      "Collecting visions[type_image_path]==0.6.0\n",
      "  Using cached visions-0.6.0-py3-none-any.whl (75 kB)\n",
      "Requirement already satisfied: attrs>=19.3.0 in e:\\anaconda\\lib\\site-packages (from pandas-profiling) (19.3.0)\n",
      "Collecting requests>=2.24.0\n",
      "  Using cached requests-2.25.1-py2.py3-none-any.whl (61 kB)\n",
      "Requirement already satisfied: confuse>=1.0.0 in e:\\anaconda\\lib\\site-packages (from pandas-profiling) (1.4.0)\n",
      "Collecting tqdm>=4.48.2\n",
      "  Using cached tqdm-4.59.0-py2.py3-none-any.whl (74 kB)\n",
      "Collecting tangled-up-in-unicode>=0.0.6\n",
      "  Using cached tangled_up_in_unicode-0.0.7-py3-none-any.whl (3.1 MB)\n",
      "Requirement already satisfied: ipywidgets>=7.5.1 in e:\\anaconda\\lib\\site-packages (from pandas-profiling) (7.5.1)\n",
      "Collecting missingno>=0.4.2\n",
      "  Using cached missingno-0.4.2-py3-none-any.whl (9.7 kB)\n",
      "Requirement already satisfied: pandas!=1.0.0,!=1.0.1,!=1.0.2,!=1.1.0,>=0.25.3 in e:\\anaconda\\lib\\site-packages (from pandas-profiling) (1.2.3)\n",
      "Requirement already satisfied: numpy>=1.16.0 in e:\\anaconda\\lib\\site-packages (from pandas-profiling) (1.18.1)\n",
      "Processing c:\\users\\shivani adsar\\appdata\\local\\pip\\cache\\wheels\\70\\e1\\52\\5b14d250ba868768823940c3229e9950d201a26d0bd3ee8655\\htmlmin-0.1.12-py3-none-any.whl\n",
      "Requirement already satisfied: scipy>=1.4.1 in e:\\anaconda\\lib\\site-packages (from pandas-profiling) (1.4.1)\n",
      "Processing c:\\users\\shivani adsar\\appdata\\local\\pip\\cache\\wheels\\40\\98\\a3\\b654f24edcdcdb87d1f70d65a506fcfdf15289db129c594bcd\\phik-0.11.2-py3-none-any.whl\n",
      "Collecting seaborn>=0.10.1\n",
      "  Using cached seaborn-0.11.1-py3-none-any.whl (285 kB)\n",
      "Requirement already satisfied: pillow>=6.2.0 in e:\\anaconda\\lib\\site-packages (from matplotlib>=3.2.0->pandas-profiling) (7.0.0)\n",
      "Requirement already satisfied: python-dateutil>=2.1 in e:\\anaconda\\lib\\site-packages (from matplotlib>=3.2.0->pandas-profiling) (2.8.1)\n",
      "Requirement already satisfied: pyparsing!=2.0.4,!=2.1.2,!=2.1.6,>=2.0.3 in e:\\anaconda\\lib\\site-packages (from matplotlib>=3.2.0->pandas-profiling) (2.4.6)\n",
      "Requirement already satisfied: kiwisolver>=1.0.1 in e:\\anaconda\\lib\\site-packages (from matplotlib>=3.2.0->pandas-profiling) (1.1.0)\n",
      "Requirement already satisfied: cycler>=0.10 in e:\\anaconda\\lib\\site-packages (from matplotlib>=3.2.0->pandas-profiling) (0.10.0)\n",
      "Requirement already satisfied: MarkupSafe>=0.23 in e:\\anaconda\\lib\\site-packages (from jinja2>=2.11.1->pandas-profiling) (1.1.1)\n",
      "Requirement already satisfied: networkx>=2.4 in e:\\anaconda\\lib\\site-packages (from visions[type_image_path]==0.6.0->pandas-profiling) (2.4)\n",
      "Collecting imagehash; extra == \"type_image_path\"\n",
      "  Using cached ImageHash-4.2.0-py2.py3-none-any.whl (295 kB)\n",
      "Requirement already satisfied: certifi>=2017.4.17 in e:\\anaconda\\lib\\site-packages (from requests>=2.24.0->pandas-profiling) (2019.11.28)\n",
      "Requirement already satisfied: idna<3,>=2.5 in e:\\anaconda\\lib\\site-packages (from requests>=2.24.0->pandas-profiling) (2.8)\n",
      "Requirement already satisfied: chardet<5,>=3.0.2 in e:\\anaconda\\lib\\site-packages (from requests>=2.24.0->pandas-profiling) (3.0.4)\n",
      "Requirement already satisfied: urllib3<1.27,>=1.21.1 in e:\\anaconda\\lib\\site-packages (from requests>=2.24.0->pandas-profiling) (1.25.8)\n",
      "Requirement already satisfied: pyyaml in e:\\anaconda\\lib\\site-packages (from confuse>=1.0.0->pandas-profiling) (5.3)\n",
      "Requirement already satisfied: ipython>=4.0.0; python_version >= \"3.3\" in e:\\anaconda\\lib\\site-packages (from ipywidgets>=7.5.1->pandas-profiling) (7.12.0)\n",
      "Requirement already satisfied: nbformat>=4.2.0 in e:\\anaconda\\lib\\site-packages (from ipywidgets>=7.5.1->pandas-profiling) (5.0.4)\n",
      "Requirement already satisfied: widgetsnbextension~=3.5.0 in e:\\anaconda\\lib\\site-packages (from ipywidgets>=7.5.1->pandas-profiling) (3.5.1)\n",
      "Requirement already satisfied: ipykernel>=4.5.1 in e:\\anaconda\\lib\\site-packages (from ipywidgets>=7.5.1->pandas-profiling) (5.1.4)\n",
      "Requirement already satisfied: traitlets>=4.3.1 in e:\\anaconda\\lib\\site-packages (from ipywidgets>=7.5.1->pandas-profiling) (4.3.3)\n",
      "Requirement already satisfied: pytz>=2017.3 in e:\\anaconda\\lib\\site-packages (from pandas!=1.0.0,!=1.0.1,!=1.0.2,!=1.1.0,>=0.25.3->pandas-profiling) (2019.3)\n",
      "Requirement already satisfied: six>=1.5 in e:\\anaconda\\lib\\site-packages (from python-dateutil>=2.1->matplotlib>=3.2.0->pandas-profiling) (1.14.0)\n",
      "Requirement already satisfied: setuptools in e:\\anaconda\\lib\\site-packages (from kiwisolver>=1.0.1->matplotlib>=3.2.0->pandas-profiling) (45.2.0.post20200210)\n",
      "Requirement already satisfied: decorator>=4.3.0 in e:\\anaconda\\lib\\site-packages (from networkx>=2.4->visions[type_image_path]==0.6.0->pandas-profiling) (4.4.1)\n",
      "Requirement already satisfied: PyWavelets in e:\\anaconda\\lib\\site-packages (from imagehash; extra == \"type_image_path\"->visions[type_image_path]==0.6.0->pandas-profiling) (1.1.1)\n",
      "Requirement already satisfied: prompt-toolkit!=3.0.0,!=3.0.1,<3.1.0,>=2.0.0 in e:\\anaconda\\lib\\site-packages (from ipython>=4.0.0; python_version >= \"3.3\"->ipywidgets>=7.5.1->pandas-profiling) (3.0.3)\n",
      "Requirement already satisfied: jedi>=0.10 in e:\\anaconda\\lib\\site-packages (from ipython>=4.0.0; python_version >= \"3.3\"->ipywidgets>=7.5.1->pandas-profiling) (0.14.1)\n",
      "Requirement already satisfied: backcall in e:\\anaconda\\lib\\site-packages (from ipython>=4.0.0; python_version >= \"3.3\"->ipywidgets>=7.5.1->pandas-profiling) (0.1.0)\n",
      "Requirement already satisfied: pickleshare in e:\\anaconda\\lib\\site-packages (from ipython>=4.0.0; python_version >= \"3.3\"->ipywidgets>=7.5.1->pandas-profiling) (0.7.5)\n",
      "Requirement already satisfied: pygments in e:\\anaconda\\lib\\site-packages (from ipython>=4.0.0; python_version >= \"3.3\"->ipywidgets>=7.5.1->pandas-profiling) (2.5.2)\n",
      "Requirement already satisfied: colorama; sys_platform == \"win32\" in e:\\anaconda\\lib\\site-packages (from ipython>=4.0.0; python_version >= \"3.3\"->ipywidgets>=7.5.1->pandas-profiling) (0.4.3)\n",
      "Requirement already satisfied: jupyter-core in e:\\anaconda\\lib\\site-packages (from nbformat>=4.2.0->ipywidgets>=7.5.1->pandas-profiling) (4.6.1)\n",
      "Requirement already satisfied: ipython-genutils in e:\\anaconda\\lib\\site-packages (from nbformat>=4.2.0->ipywidgets>=7.5.1->pandas-profiling) (0.2.0)\n",
      "Requirement already satisfied: jsonschema!=2.5.0,>=2.4 in e:\\anaconda\\lib\\site-packages (from nbformat>=4.2.0->ipywidgets>=7.5.1->pandas-profiling) (3.2.0)\n",
      "Requirement already satisfied: notebook>=4.4.1 in e:\\anaconda\\lib\\site-packages (from widgetsnbextension~=3.5.0->ipywidgets>=7.5.1->pandas-profiling) (6.0.3)\n",
      "Requirement already satisfied: jupyter-client in e:\\anaconda\\lib\\site-packages (from ipykernel>=4.5.1->ipywidgets>=7.5.1->pandas-profiling) (5.3.4)\n",
      "Requirement already satisfied: tornado>=4.2 in e:\\anaconda\\lib\\site-packages (from ipykernel>=4.5.1->ipywidgets>=7.5.1->pandas-profiling) (6.0.3)\n",
      "Requirement already satisfied: wcwidth in e:\\anaconda\\lib\\site-packages (from prompt-toolkit!=3.0.0,!=3.0.1,<3.1.0,>=2.0.0->ipython>=4.0.0; python_version >= \"3.3\"->ipywidgets>=7.5.1->pandas-profiling) (0.1.8)\n",
      "Requirement already satisfied: parso>=0.5.0 in e:\\anaconda\\lib\\site-packages (from jedi>=0.10->ipython>=4.0.0; python_version >= \"3.3\"->ipywidgets>=7.5.1->pandas-profiling) (0.5.2)\n",
      "Requirement already satisfied: pywin32>=1.0; sys_platform == \"win32\" in e:\\anaconda\\lib\\site-packages (from jupyter-core->nbformat>=4.2.0->ipywidgets>=7.5.1->pandas-profiling) (227)\n",
      "Requirement already satisfied: pyrsistent>=0.14.0 in e:\\anaconda\\lib\\site-packages (from jsonschema!=2.5.0,>=2.4->nbformat>=4.2.0->ipywidgets>=7.5.1->pandas-profiling) (0.15.7)\n",
      "Requirement already satisfied: importlib-metadata; python_version < \"3.8\" in e:\\anaconda\\lib\\site-packages (from jsonschema!=2.5.0,>=2.4->nbformat>=4.2.0->ipywidgets>=7.5.1->pandas-profiling) (1.5.0)\n",
      "Requirement already satisfied: nbconvert in e:\\anaconda\\lib\\site-packages (from notebook>=4.4.1->widgetsnbextension~=3.5.0->ipywidgets>=7.5.1->pandas-profiling) (5.6.1)\n",
      "Requirement already satisfied: prometheus-client in e:\\anaconda\\lib\\site-packages (from notebook>=4.4.1->widgetsnbextension~=3.5.0->ipywidgets>=7.5.1->pandas-profiling) (0.7.1)\n",
      "Requirement already satisfied: terminado>=0.8.1 in e:\\anaconda\\lib\\site-packages (from notebook>=4.4.1->widgetsnbextension~=3.5.0->ipywidgets>=7.5.1->pandas-profiling) (0.8.3)\n",
      "Requirement already satisfied: pyzmq>=17 in e:\\anaconda\\lib\\site-packages (from notebook>=4.4.1->widgetsnbextension~=3.5.0->ipywidgets>=7.5.1->pandas-profiling) (18.1.1)\n",
      "Requirement already satisfied: Send2Trash in e:\\anaconda\\lib\\site-packages (from notebook>=4.4.1->widgetsnbextension~=3.5.0->ipywidgets>=7.5.1->pandas-profiling) (1.5.0)\n",
      "Requirement already satisfied: zipp>=0.5 in e:\\anaconda\\lib\\site-packages (from importlib-metadata; python_version < \"3.8\"->jsonschema!=2.5.0,>=2.4->nbformat>=4.2.0->ipywidgets>=7.5.1->pandas-profiling) (2.2.0)\n",
      "Requirement already satisfied: testpath in e:\\anaconda\\lib\\site-packages (from nbconvert->notebook>=4.4.1->widgetsnbextension~=3.5.0->ipywidgets>=7.5.1->pandas-profiling) (0.4.4)\n",
      "Requirement already satisfied: mistune<2,>=0.8.1 in e:\\anaconda\\lib\\site-packages (from nbconvert->notebook>=4.4.1->widgetsnbextension~=3.5.0->ipywidgets>=7.5.1->pandas-profiling) (0.8.4)\n",
      "Requirement already satisfied: entrypoints>=0.2.2 in e:\\anaconda\\lib\\site-packages (from nbconvert->notebook>=4.4.1->widgetsnbextension~=3.5.0->ipywidgets>=7.5.1->pandas-profiling) (0.3)\n",
      "Requirement already satisfied: bleach in e:\\anaconda\\lib\\site-packages (from nbconvert->notebook>=4.4.1->widgetsnbextension~=3.5.0->ipywidgets>=7.5.1->pandas-profiling) (3.1.0)\n",
      "Requirement already satisfied: pandocfilters>=1.4.1 in e:\\anaconda\\lib\\site-packages (from nbconvert->notebook>=4.4.1->widgetsnbextension~=3.5.0->ipywidgets>=7.5.1->pandas-profiling) (1.4.2)\n",
      "Requirement already satisfied: defusedxml in e:\\anaconda\\lib\\site-packages (from nbconvert->notebook>=4.4.1->widgetsnbextension~=3.5.0->ipywidgets>=7.5.1->pandas-profiling) (0.6.0)\n",
      "Requirement already satisfied: webencodings in e:\\anaconda\\lib\\site-packages (from bleach->nbconvert->notebook>=4.4.1->widgetsnbextension~=3.5.0->ipywidgets>=7.5.1->pandas-profiling) (0.5.1)\n",
      "Installing collected packages: matplotlib, tangled-up-in-unicode, imagehash, visions, requests, tqdm, seaborn, missingno, htmlmin, phik, pandas-profiling\n",
      "  Attempting uninstall: matplotlib\n",
      "    Found existing installation: matplotlib 3.1.3\n",
      "    Uninstalling matplotlib-3.1.3:\n",
      "      Successfully uninstalled matplotlib-3.1.3\n",
      "Note: you may need to restart the kernel to use updated packages.\n"
     ]
    },
    {
     "name": "stderr",
     "output_type": "stream",
     "text": [
      "ERROR: phik 0.11.2 has requirement scipy>=1.5.2, but you'll have scipy 1.4.1 which is incompatible.\n",
      "ERROR: Could not install packages due to an EnvironmentError: [WinError 5] Access is denied: 'e:\\\\anaconda\\\\lib\\\\site-packages\\\\~atplotlib\\\\backends\\\\_backend_agg.cp37-win_amd64.pyd'\n",
      "Consider using the `--user` option or check the permissions.\n",
      "\n"
     ]
    }
   ],
   "source": [
    "pip install pandas-profiling"
   ]
  },
  {
   "cell_type": "code",
   "execution_count": 5,
   "metadata": {
    "colab": {},
    "colab_type": "code",
    "id": "NB84Bnxj0ivD"
   },
   "outputs": [],
   "source": [
    "# Read in dataset\n",
    "telco = pd.read_csv(\"D:/Data/Northeastern University/Applications of AI/Module 2/telco.csv\")"
   ]
  },
  {
   "cell_type": "code",
   "execution_count": 36,
   "metadata": {},
   "outputs": [
    {
     "data": {
      "text/plain": [
       "<bound method NDFrame.head of       Unnamed: 0  customerID  gender SeniorCitizen Partner Dependents  tenure  \\\n",
       "0              0  7590-VHVEG  Female            No     Yes         No       1   \n",
       "1              1  5575-GNVDE    Male            No      No         No      34   \n",
       "2              2  3668-QPYBK    Male            No      No         No       2   \n",
       "3              3  7795-CFOCW    Male            No      No         No      45   \n",
       "4              4  9237-HQITU  Female            No      No         No       2   \n",
       "...          ...         ...     ...           ...     ...        ...     ...   \n",
       "7038        7038  6840-RESVB    Male            No     Yes        Yes      24   \n",
       "7039        7039  2234-XADUH  Female            No     Yes        Yes      72   \n",
       "7040        7040  4801-JZAZL  Female            No     Yes        Yes      11   \n",
       "7041        7041  8361-LTMKD    Male           Yes     Yes         No       4   \n",
       "7042        7042  3186-AJIEK    Male            No      No         No      66   \n",
       "\n",
       "     PhoneService     MultipleLines InternetService OnlineSecurity  \\\n",
       "0              No  No phone service             DSL             No   \n",
       "1             Yes                No             DSL            Yes   \n",
       "2             Yes                No             DSL            Yes   \n",
       "3              No  No phone service             DSL            Yes   \n",
       "4             Yes                No     Fiber optic             No   \n",
       "...           ...               ...             ...            ...   \n",
       "7038          Yes               Yes             DSL            Yes   \n",
       "7039          Yes               Yes     Fiber optic             No   \n",
       "7040           No  No phone service             DSL            Yes   \n",
       "7041          Yes               Yes     Fiber optic             No   \n",
       "7042          Yes                No     Fiber optic            Yes   \n",
       "\n",
       "     OnlineBackup DeviceProtection TechSupport StreamingTV StreamingMovies  \\\n",
       "0             Yes               No          No          No              No   \n",
       "1              No              Yes          No          No              No   \n",
       "2             Yes               No          No          No              No   \n",
       "3              No              Yes         Yes          No              No   \n",
       "4              No               No          No          No              No   \n",
       "...           ...              ...         ...         ...             ...   \n",
       "7038           No              Yes         Yes         Yes             Yes   \n",
       "7039          Yes              Yes          No         Yes             Yes   \n",
       "7040           No               No          No          No              No   \n",
       "7041           No               No          No          No              No   \n",
       "7042           No              Yes         Yes         Yes             Yes   \n",
       "\n",
       "            Contract PaperlessBilling              PaymentMethod  \\\n",
       "0     Month-to-month              Yes           Electronic check   \n",
       "1           One year               No               Mailed check   \n",
       "2     Month-to-month              Yes               Mailed check   \n",
       "3           One year               No  Bank transfer (automatic)   \n",
       "4     Month-to-month              Yes           Electronic check   \n",
       "...              ...              ...                        ...   \n",
       "7038        One year              Yes               Mailed check   \n",
       "7039        One year              Yes    Credit card (automatic)   \n",
       "7040  Month-to-month              Yes           Electronic check   \n",
       "7041  Month-to-month              Yes               Mailed check   \n",
       "7042        Two year              Yes  Bank transfer (automatic)   \n",
       "\n",
       "      MonthlyCharges TotalCharges    Churn  \n",
       "0              29.85        29.85   Stayed  \n",
       "1              56.95       1889.5   Stayed  \n",
       "2              53.85       108.15  Churned  \n",
       "3              42.30      1840.75   Stayed  \n",
       "4              70.70       151.65  Churned  \n",
       "...              ...          ...      ...  \n",
       "7038           84.80       1990.5   Stayed  \n",
       "7039          103.20       7362.9   Stayed  \n",
       "7040           29.60       346.45   Stayed  \n",
       "7041           74.40        306.6  Churned  \n",
       "7042          105.65       6844.5   Stayed  \n",
       "\n",
       "[7043 rows x 22 columns]>"
      ]
     },
     "execution_count": 36,
     "metadata": {},
     "output_type": "execute_result"
    }
   ],
   "source": [
    "telco.head"
   ]
  },
  {
   "cell_type": "code",
   "execution_count": 37,
   "metadata": {
    "colab": {
     "base_uri": "https://localhost:8080/",
     "height": 309
    },
    "colab_type": "code",
    "id": "t1xRb-Ar0ivJ",
    "outputId": "d6644365-aa6e-473b-c35f-619a2ea0093c"
   },
   "outputs": [
    {
     "data": {
      "text/plain": [
       "<bound method NDFrame.head of       Unnamed: 0  customerID  gender SeniorCitizen Partner Dependents  tenure  \\\n",
       "0              0  7590-VHVEG  Female            No     Yes         No       1   \n",
       "1              1  5575-GNVDE    Male            No      No         No      34   \n",
       "2              2  3668-QPYBK    Male            No      No         No       2   \n",
       "3              3  7795-CFOCW    Male            No      No         No      45   \n",
       "4              4  9237-HQITU  Female            No      No         No       2   \n",
       "...          ...         ...     ...           ...     ...        ...     ...   \n",
       "7038        7038  6840-RESVB    Male            No     Yes        Yes      24   \n",
       "7039        7039  2234-XADUH  Female            No     Yes        Yes      72   \n",
       "7040        7040  4801-JZAZL  Female            No     Yes        Yes      11   \n",
       "7041        7041  8361-LTMKD    Male           Yes     Yes         No       4   \n",
       "7042        7042  3186-AJIEK    Male            No      No         No      66   \n",
       "\n",
       "     PhoneService     MultipleLines InternetService OnlineSecurity  \\\n",
       "0              No  No phone service             DSL             No   \n",
       "1             Yes                No             DSL            Yes   \n",
       "2             Yes                No             DSL            Yes   \n",
       "3              No  No phone service             DSL            Yes   \n",
       "4             Yes                No     Fiber optic             No   \n",
       "...           ...               ...             ...            ...   \n",
       "7038          Yes               Yes             DSL            Yes   \n",
       "7039          Yes               Yes     Fiber optic             No   \n",
       "7040           No  No phone service             DSL            Yes   \n",
       "7041          Yes               Yes     Fiber optic             No   \n",
       "7042          Yes                No     Fiber optic            Yes   \n",
       "\n",
       "     OnlineBackup DeviceProtection TechSupport StreamingTV StreamingMovies  \\\n",
       "0             Yes               No          No          No              No   \n",
       "1              No              Yes          No          No              No   \n",
       "2             Yes               No          No          No              No   \n",
       "3              No              Yes         Yes          No              No   \n",
       "4              No               No          No          No              No   \n",
       "...           ...              ...         ...         ...             ...   \n",
       "7038           No              Yes         Yes         Yes             Yes   \n",
       "7039          Yes              Yes          No         Yes             Yes   \n",
       "7040           No               No          No          No              No   \n",
       "7041           No               No          No          No              No   \n",
       "7042           No              Yes         Yes         Yes             Yes   \n",
       "\n",
       "            Contract PaperlessBilling              PaymentMethod  \\\n",
       "0     Month-to-month              Yes           Electronic check   \n",
       "1           One year               No               Mailed check   \n",
       "2     Month-to-month              Yes               Mailed check   \n",
       "3           One year               No  Bank transfer (automatic)   \n",
       "4     Month-to-month              Yes           Electronic check   \n",
       "...              ...              ...                        ...   \n",
       "7038        One year              Yes               Mailed check   \n",
       "7039        One year              Yes    Credit card (automatic)   \n",
       "7040  Month-to-month              Yes           Electronic check   \n",
       "7041  Month-to-month              Yes               Mailed check   \n",
       "7042        Two year              Yes  Bank transfer (automatic)   \n",
       "\n",
       "      MonthlyCharges TotalCharges    Churn  \n",
       "0              29.85        29.85   Stayed  \n",
       "1              56.95       1889.5   Stayed  \n",
       "2              53.85       108.15  Churned  \n",
       "3              42.30      1840.75   Stayed  \n",
       "4              70.70       151.65  Churned  \n",
       "...              ...          ...      ...  \n",
       "7038           84.80       1990.5   Stayed  \n",
       "7039          103.20       7362.9   Stayed  \n",
       "7040           29.60       346.45   Stayed  \n",
       "7041           74.40        306.6  Churned  \n",
       "7042          105.65       6844.5   Stayed  \n",
       "\n",
       "[7043 rows x 22 columns]>"
      ]
     },
     "execution_count": 37,
     "metadata": {},
     "output_type": "execute_result"
    },
    {
     "data": {
      "text/plain": [
       "(7043, 22)"
      ]
     },
     "execution_count": 37,
     "metadata": {},
     "output_type": "execute_result"
    }
   ],
   "source": [
    "# Print header\n",
    "telco.head\n",
    "#Dimensions of the data and investigate if there are any duplicate rows\n",
    "telco.shape"
   ]
  },
  {
   "cell_type": "markdown",
   "metadata": {
    "colab_type": "text",
    "id": "j7MqIuT48Uie"
   },
   "source": [
    "- **Observation 1:** For the purposes of machine learning, the `customerID` does not have any predictive power and will be dropped.\n",
    "- **Observation 2:** Categorical variables need to be encoded as numeric for machine learning."
   ]
  },
  {
   "cell_type": "code",
   "execution_count": 18,
   "metadata": {
    "colab": {
     "base_uri": "https://localhost:8080/",
     "height": 493
    },
    "colab_type": "code",
    "id": "JsmNCE8U0iva",
    "outputId": "78c20af8-30a3-467a-a279-9bacaa584f4e"
   },
   "outputs": [
    {
     "name": "stdout",
     "output_type": "stream",
     "text": [
      "<class 'pandas.core.frame.DataFrame'>\n",
      "Int64Index: 7043 entries, 0 to 7042\n",
      "Data columns (total 21 columns):\n",
      " #   Column            Non-Null Count  Dtype  \n",
      "---  ------            --------------  -----  \n",
      " 0   customerID        7043 non-null   object \n",
      " 1   gender            7043 non-null   object \n",
      " 2   SeniorCitizen     7043 non-null   object \n",
      " 3   Partner           7043 non-null   object \n",
      " 4   Dependents        7043 non-null   object \n",
      " 5   tenure            7043 non-null   int64  \n",
      " 6   PhoneService      7043 non-null   object \n",
      " 7   MultipleLines     7043 non-null   object \n",
      " 8   InternetService   7043 non-null   object \n",
      " 9   OnlineSecurity    7043 non-null   object \n",
      " 10  OnlineBackup      7043 non-null   object \n",
      " 11  DeviceProtection  7043 non-null   object \n",
      " 12  TechSupport       7043 non-null   object \n",
      " 13  StreamingTV       7043 non-null   object \n",
      " 14  StreamingMovies   7043 non-null   object \n",
      " 15  Contract          7043 non-null   object \n",
      " 16  PaperlessBilling  7043 non-null   object \n",
      " 17  PaymentMethod     7043 non-null   object \n",
      " 18  MonthlyCharges    7043 non-null   float64\n",
      " 19  TotalCharges      7043 non-null   object \n",
      " 20  Churn             7043 non-null   object \n",
      "dtypes: float64(1), int64(1), object(19)\n",
      "memory usage: 1.2+ MB\n"
     ]
    }
   ],
   "source": [
    "# Print info\n",
    "telco.info()"
   ]
  },
  {
   "cell_type": "markdown",
   "metadata": {
    "colab_type": "text",
    "id": "IreWm0di889y"
   },
   "source": [
    "**Observation 3:** `TotalCharges` column is of type `object` - it needs to be converted to `float`."
   ]
  },
  {
   "cell_type": "code",
   "execution_count": 20,
   "metadata": {
    "colab": {
     "base_uri": "https://localhost:8080/",
     "height": 391
    },
    "colab_type": "code",
    "id": "oK9GKWFq0ivo",
    "outputId": "dc29303e-6c26-4f4d-d097-bc77ff3e7732"
   },
   "outputs": [
    {
     "data": {
      "text/plain": [
       "customerID          7043\n",
       "gender                 2\n",
       "SeniorCitizen          2\n",
       "Partner                2\n",
       "Dependents             2\n",
       "tenure                73\n",
       "PhoneService           2\n",
       "MultipleLines          3\n",
       "InternetService        4\n",
       "OnlineSecurity         3\n",
       "OnlineBackup           3\n",
       "DeviceProtection       3\n",
       "TechSupport            3\n",
       "StreamingTV            3\n",
       "StreamingMovies        3\n",
       "Contract               3\n",
       "PaperlessBilling       2\n",
       "PaymentMethod          4\n",
       "MonthlyCharges      1585\n",
       "TotalCharges        6531\n",
       "Churn                  2\n",
       "dtype: int64"
      ]
     },
     "execution_count": 20,
     "metadata": {},
     "output_type": "execute_result"
    },
    {
     "name": "stdout",
     "output_type": "stream",
     "text": [
      "customerID          0\n",
      "gender              0\n",
      "SeniorCitizen       0\n",
      "Partner             0\n",
      "Dependents          0\n",
      "tenure              0\n",
      "PhoneService        0\n",
      "MultipleLines       0\n",
      "InternetService     0\n",
      "OnlineSecurity      0\n",
      "OnlineBackup        0\n",
      "DeviceProtection    0\n",
      "TechSupport         0\n",
      "StreamingTV         0\n",
      "StreamingMovies     0\n",
      "Contract            0\n",
      "PaperlessBilling    0\n",
      "PaymentMethod       0\n",
      "MonthlyCharges      0\n",
      "TotalCharges        0\n",
      "Churn               0\n",
      "dtype: int64\n"
     ]
    }
   ],
   "source": [
    "# Take a look at unique values in telco\n",
    "telco.nunique()\n",
    "# Finding the null values for each column\n",
    "print(telco.isnull().sum())"
   ]
  },
  {
   "cell_type": "markdown",
   "metadata": {
    "colab_type": "text",
    "id": "yy0mYfPf9Rcs"
   },
   "source": [
    "**Observation 4:** The `InternetService` column should have `'DSL'`, `'Fiber optic'` and `'No'` as values - yet here there are 4 unique values. "
   ]
  },
  {
   "cell_type": "code",
   "execution_count": 21,
   "metadata": {
    "colab": {
     "base_uri": "https://localhost:8080/",
     "height": 34
    },
    "colab_type": "code",
    "id": "wNQdigfw0ivz",
    "outputId": "fbe5bd25-5d77-497f-b17d-663b0c63900a"
   },
   "outputs": [
    {
     "data": {
      "text/plain": [
       "array(['DSL', 'Fiber optic', 'No', 'dsl'], dtype=object)"
      ]
     },
     "execution_count": 21,
     "metadata": {},
     "output_type": "execute_result"
    }
   ],
   "source": [
    "# Unique values of internet service\n",
    "telco['InternetService'].unique()"
   ]
  },
  {
   "cell_type": "code",
   "execution_count": 23,
   "metadata": {},
   "outputs": [
    {
     "data": {
      "text/plain": [
       "<bound method NDFrame.head of                  count unique               top  freq\n",
       "customerID        7043   7043        0670-KDOMA     1\n",
       "gender            7043      2              Male  3555\n",
       "SeniorCitizen     7043      2                No  5901\n",
       "Partner           7043      2                No  3641\n",
       "Dependents        7043      2                No  4933\n",
       "PhoneService      7043      2               Yes  6361\n",
       "MultipleLines     7043      3                No  3390\n",
       "InternetService   7043      4       Fiber optic  3096\n",
       "OnlineSecurity    7043      3                No  3498\n",
       "OnlineBackup      7043      3                No  3088\n",
       "DeviceProtection  7043      3                No  3095\n",
       "TechSupport       7043      3                No  3473\n",
       "StreamingTV       7043      3                No  2810\n",
       "StreamingMovies   7043      3                No  2785\n",
       "Contract          7043      3    Month-to-month  3875\n",
       "PaperlessBilling  7043      2               Yes  4171\n",
       "PaymentMethod     7043      4  Electronic check  2365\n",
       "TotalCharges      7043   6531              20.2    11\n",
       "Churn             7043      2            Stayed  5174>"
      ]
     },
     "execution_count": 23,
     "metadata": {},
     "output_type": "execute_result"
    },
    {
     "name": "stdout",
     "output_type": "stream",
     "text": [
      "        customerID gender SeniorCitizen Partner Dependents       tenure  \\\n",
      "count         7043   7043          7043    7043       7043  7043.000000   \n",
      "unique        7043      2             2       2          2          NaN   \n",
      "top     0670-KDOMA   Male            No      No         No          NaN   \n",
      "freq             1   3555          5901    3641       4933          NaN   \n",
      "mean           NaN    NaN           NaN     NaN        NaN    32.371149   \n",
      "std            NaN    NaN           NaN     NaN        NaN    24.559481   \n",
      "min            NaN    NaN           NaN     NaN        NaN     0.000000   \n",
      "25%            NaN    NaN           NaN     NaN        NaN     9.000000   \n",
      "50%            NaN    NaN           NaN     NaN        NaN    29.000000   \n",
      "75%            NaN    NaN           NaN     NaN        NaN    55.000000   \n",
      "max            NaN    NaN           NaN     NaN        NaN    72.000000   \n",
      "\n",
      "       PhoneService MultipleLines InternetService OnlineSecurity OnlineBackup  \\\n",
      "count          7043          7043            7043           7043         7043   \n",
      "unique            2             3               4              3            3   \n",
      "top             Yes            No     Fiber optic             No           No   \n",
      "freq           6361          3390            3096           3498         3088   \n",
      "mean            NaN           NaN             NaN            NaN          NaN   \n",
      "std             NaN           NaN             NaN            NaN          NaN   \n",
      "min             NaN           NaN             NaN            NaN          NaN   \n",
      "25%             NaN           NaN             NaN            NaN          NaN   \n",
      "50%             NaN           NaN             NaN            NaN          NaN   \n",
      "75%             NaN           NaN             NaN            NaN          NaN   \n",
      "max             NaN           NaN             NaN            NaN          NaN   \n",
      "\n",
      "       DeviceProtection TechSupport StreamingTV StreamingMovies  \\\n",
      "count              7043        7043        7043            7043   \n",
      "unique                3           3           3               3   \n",
      "top                  No          No          No              No   \n",
      "freq               3095        3473        2810            2785   \n",
      "mean                NaN         NaN         NaN             NaN   \n",
      "std                 NaN         NaN         NaN             NaN   \n",
      "min                 NaN         NaN         NaN             NaN   \n",
      "25%                 NaN         NaN         NaN             NaN   \n",
      "50%                 NaN         NaN         NaN             NaN   \n",
      "75%                 NaN         NaN         NaN             NaN   \n",
      "max                 NaN         NaN         NaN             NaN   \n",
      "\n",
      "              Contract PaperlessBilling     PaymentMethod  MonthlyCharges  \\\n",
      "count             7043             7043              7043     7043.000000   \n",
      "unique               3                2                 4             NaN   \n",
      "top     Month-to-month              Yes  Electronic check             NaN   \n",
      "freq              3875             4171              2365             NaN   \n",
      "mean               NaN              NaN               NaN       64.761692   \n",
      "std                NaN              NaN               NaN       30.090047   \n",
      "min                NaN              NaN               NaN       18.250000   \n",
      "25%                NaN              NaN               NaN       35.500000   \n",
      "50%                NaN              NaN               NaN       70.350000   \n",
      "75%                NaN              NaN               NaN       89.850000   \n",
      "max                NaN              NaN               NaN      118.750000   \n",
      "\n",
      "       TotalCharges   Churn  \n",
      "count          7043    7043  \n",
      "unique         6531       2  \n",
      "top            20.2  Stayed  \n",
      "freq             11    5174  \n",
      "mean            NaN     NaN  \n",
      "std             NaN     NaN  \n",
      "min             NaN     NaN  \n",
      "25%             NaN     NaN  \n",
      "50%             NaN     NaN  \n",
      "75%             NaN     NaN  \n",
      "max             NaN     NaN  \n"
     ]
    }
   ],
   "source": [
    "#Calculate summary statistics\n",
    "summary = telco.describe(include=['object'])\n",
    "summary = summary.transpose()\n",
    "summary.head\n",
    "print(telco.describe(include='all'))"
   ]
  },
  {
   "cell_type": "markdown",
   "metadata": {
    "colab_type": "text",
    "id": "f3gdBeLO9iCW"
   },
   "source": [
    "**Observation 4:** The `InternetService` column has a `'dsl'` value that needs to be collapsed to `'DSL'`."
   ]
  },
  {
   "cell_type": "markdown",
   "metadata": {
    "colab_type": "text",
    "id": "3IWmBMGQ9yqi"
   },
   "source": [
    "The **null model** is a model of reference to use for classification accuracy - where the  **null accuracy** is the accuracy of the model if we always choose the most frequent class *(or outcome)*. Accuracy is determined here by the following:\n",
    "\n",
    "<br>\n",
    "\n",
    "\n",
    "$$\\large{accuracy = \\frac{\\# \\space times \\space model \\space is \\space right}{total \\space number \\space of \\space predictions}}$$\n",
    "\n"
   ]
  },
  {
   "cell_type": "code",
   "execution_count": 6,
   "metadata": {},
   "outputs": [
    {
     "data": {
      "text/plain": [
       "Stayed     5174\n",
       "Churned    1869\n",
       "Name: Churn, dtype: int64"
      ]
     },
     "execution_count": 6,
     "metadata": {},
     "output_type": "execute_result"
    },
    {
     "data": {
      "text/plain": [
       "Fiber optic    3096\n",
       "DSL            2391\n",
       "No             1526\n",
       "dsl              30\n",
       "Name: InternetService, dtype: int64"
      ]
     },
     "execution_count": 6,
     "metadata": {},
     "output_type": "execute_result"
    },
    {
     "data": {
      "text/plain": [
       "           11\n",
       "20.2       11\n",
       "19.75       9\n",
       "19.9        8\n",
       "20.05       8\n",
       "           ..\n",
       "679.3       1\n",
       "2897.95     1\n",
       "331.6       1\n",
       "908.55      1\n",
       "586.05      1\n",
       "Name: TotalCharges, Length: 6531, dtype: int64"
      ]
     },
     "execution_count": 6,
     "metadata": {},
     "output_type": "execute_result"
    },
    {
     "data": {
      "text/plain": [
       "0"
      ]
     },
     "execution_count": 6,
     "metadata": {},
     "output_type": "execute_result"
    }
   ],
   "source": [
    "#Frequency distribution of some key variables\n",
    "telco['Churn'].value_counts()\n",
    "telco['InternetService'].value_counts()\n",
    "telco['TotalCharges'].value_counts()\n",
    "telco['TotalCharges'].isnull().sum()"
   ]
  },
  {
   "cell_type": "code",
   "execution_count": 42,
   "metadata": {},
   "outputs": [
    {
     "name": "stdout",
     "output_type": "stream",
     "text": [
      "Collecting package metadata (current_repodata.json): ...working... done\n",
      "Solving environment: ...working... done\n",
      "\n",
      "# All requested packages already installed.\n",
      "\n",
      "Failed to create temp directory \"C:\\Users\\Shivani Adsar\\AppData\\Local\\Temp\\conda-<RANDOM>\\\" \n",
      "\n",
      "Note: you may need to restart the kernel to use updated packages.\n"
     ]
    }
   ],
   "source": [
    "conda install -c conda-forge pandas-profiling"
   ]
  },
  {
   "cell_type": "markdown",
   "metadata": {},
   "source": [
    "## **Use pandas_profiling for small datasets**\n",
    "`conda install -c conda-forge pandas-profiling` -- use this code snippet on your command line to install pandas-profiling which provides a comprehensive report on the variables and various statistics around it.\n",
    "It can be fairly overwhelming but is useful with smaller datasets - say a few thousand observations and 75+ variables\n",
    "`pandas_profiling.ProfileReport(telco)`\n",
    "I do not use it here and not recommended for large datasets"
   ]
  },
  {
   "cell_type": "code",
   "execution_count": 7,
   "metadata": {
    "colab": {
     "base_uri": "https://localhost:8080/",
     "height": 322
    },
    "colab_type": "code",
    "id": "SnasvjxF0iv9",
    "outputId": "d75048a7-1701-4b38-c16c-3561b273cab7"
   },
   "outputs": [
    {
     "data": {
      "text/plain": [
       "<AxesSubplot:>"
      ]
     },
     "execution_count": 7,
     "metadata": {},
     "output_type": "execute_result"
    },
    {
     "data": {
      "image/png": "[encoded data removed]",
      "text/plain": [
       "<Figure size 432x288 with 1 Axes>"
      ]
     },
     "metadata": {
      "needs_background": "light"
     },
     "output_type": "display_data"
    }
   ],
   "source": [
    "# Find the null model\n",
    "telco['Churn'].value_counts().plot(kind='bar')"
   ]
  },
  {
   "cell_type": "markdown",
   "metadata": {
    "colab_type": "text",
    "id": "yyebp5IvAdGo"
   },
   "source": [
    "$$\\large{null \\space accuracy = \\frac{\\# \\space times \\space model \\space predicted \\space \"Stayed\"}{total \\space number \\space of \\space predictions}}$$"
   ]
  },
  {
   "cell_type": "code",
   "execution_count": 9,
   "metadata": {
    "colab": {
     "base_uri": "https://localhost:8080/",
     "height": 68
    },
    "colab_type": "code",
    "id": "sd6E2YbQ0iwB",
    "outputId": "312602e5-b6f4-488e-f23f-7185f896b10a"
   },
   "outputs": [
    {
     "data": {
      "text/plain": [
       "Stayed     0.73463\n",
       "Churned    0.26537\n",
       "Name: Churn, dtype: float64"
      ]
     },
     "execution_count": 9,
     "metadata": {},
     "output_type": "execute_result"
    }
   ],
   "source": [
    "# Find the null model\n",
    "telco['Churn'].value_counts() / telco.shape[0]"
   ]
  },
  {
   "cell_type": "markdown",
   "metadata": {
    "colab_type": "text",
    "id": "xYynPBTc-vYU"
   },
   "source": [
    "In this particular instance, the null model (always predicting `\"Stayed\"`) is 73.4% - and any meaningful model that improves performance will have to break that accuracy score. "
   ]
  },
  {
   "cell_type": "markdown",
   "metadata": {
    "colab_type": "text",
    "id": "Ot-F9i0l6NLb"
   },
   "source": [
    "---\n",
    "<center><h1>Data Cleaning</h1> </center>\n",
    "\n",
    "---"
   ]
  },
  {
   "cell_type": "markdown",
   "metadata": {
    "colab_type": "text",
    "id": "uJc5u_yP0iwI"
   },
   "source": [
    "## **Data Cleaning**"
   ]
  },
  {
   "cell_type": "markdown",
   "metadata": {
    "colab_type": "text",
    "id": "DzqvJShMA-TE"
   },
   "source": [
    "**Task 1: Dropping** `customerID` **column**\n",
    "\n",
    "To drop a column from a DataFrame - we can use the `.drop()` method alongside the following arguments:\n",
    "\n",
    "- Name of `column` dropped - in this example `'customerID'`\n",
    "- `axis`: Whether to drop row (`0`), or column (`1`).\n",
    "- `inplace`: Boolean whether to drop in place and overwrite change in DataFrame."
   ]
  },
  {
   "cell_type": "code",
   "execution_count": 10,
   "metadata": {
    "colab": {},
    "colab_type": "code",
    "id": "GqLtk5Et0iwN"
   },
   "outputs": [],
   "source": [
    "# Drop customer ID column\n",
    "telco.drop('customerID', axis = 1, inplace = True)"
   ]
  },
  {
   "cell_type": "markdown",
   "metadata": {
    "colab_type": "text",
    "id": "u8OX7u2eBHQ1"
   },
   "source": [
    "**Task 2: Converting** `TotalCharges` **column**\n",
    "\n",
    "To convert a column from string to numeric - we can use the `pd.to_numeric()` function - which takes the following arguments:\n",
    "\n",
    "- Name of `column` to convert - in this example `'TotalCharges'`\n",
    "- `errors`: Whether to `'raise'` an error if it cannot be converted or to `'coerce'` it to `NaN`."
   ]
  },
  {
   "cell_type": "code",
   "execution_count": 11,
   "metadata": {
    "colab": {},
    "colab_type": "code",
    "id": "utp87oQf0iwQ"
   },
   "outputs": [],
   "source": [
    "# Convert TotalCharges to numeric\n",
    "telco['TotalCharges'] = pd.to_numeric(telco['TotalCharges'], errors='coerce')"
   ]
  },
  {
   "cell_type": "code",
   "execution_count": 20,
   "metadata": {
    "colab": {
     "base_uri": "https://localhost:8080/",
     "height": 476
    },
    "colab_type": "code",
    "id": "SginoXnb0iwT",
    "outputId": "d5880951-e0f4-465c-aab1-69c1d2b8616d"
   },
   "outputs": [
    {
     "name": "stdout",
     "output_type": "stream",
     "text": [
      "<class 'pandas.core.frame.DataFrame'>\n",
      "Int64Index: 7043 entries, 0 to 7042\n",
      "Data columns (total 20 columns):\n",
      "gender              7043 non-null object\n",
      "SeniorCitizen       7043 non-null object\n",
      "Partner             7043 non-null object\n",
      "Dependents          7043 non-null object\n",
      "tenure              7043 non-null int64\n",
      "PhoneService        7043 non-null object\n",
      "MultipleLines       7043 non-null object\n",
      "InternetService     7043 non-null object\n",
      "OnlineSecurity      7043 non-null object\n",
      "OnlineBackup        7043 non-null object\n",
      "DeviceProtection    7043 non-null object\n",
      "TechSupport         7043 non-null object\n",
      "StreamingTV         7043 non-null object\n",
      "StreamingMovies     7043 non-null object\n",
      "Contract            7043 non-null object\n",
      "PaperlessBilling    7043 non-null object\n",
      "PaymentMethod       7043 non-null object\n",
      "MonthlyCharges      7043 non-null float64\n",
      "TotalCharges        7032 non-null float64\n",
      "Churn               7043 non-null object\n",
      "dtypes: float64(2), int64(1), object(17)\n",
      "memory usage: 1.1+ MB\n"
     ]
    }
   ],
   "source": [
    "# Print info\n",
    "telco.info()"
   ]
  },
  {
   "cell_type": "code",
   "execution_count": 12,
   "metadata": {
    "colab": {},
    "colab_type": "code",
    "id": "xMPV4-d50iwW",
    "outputId": "d9009b6c-8ea7-4175-f44d-7d867324a6ab"
   },
   "outputs": [
    {
     "data": {
      "text/plain": [
       "Unnamed: 0           0\n",
       "gender               0\n",
       "SeniorCitizen        0\n",
       "Partner              0\n",
       "Dependents           0\n",
       "tenure               0\n",
       "PhoneService         0\n",
       "MultipleLines        0\n",
       "InternetService      0\n",
       "OnlineSecurity       0\n",
       "OnlineBackup         0\n",
       "DeviceProtection     0\n",
       "TechSupport          0\n",
       "StreamingTV          0\n",
       "StreamingMovies      0\n",
       "Contract             0\n",
       "PaperlessBilling     0\n",
       "PaymentMethod        0\n",
       "MonthlyCharges       0\n",
       "TotalCharges        11\n",
       "Churn                0\n",
       "dtype: int64"
      ]
     },
     "execution_count": 12,
     "metadata": {},
     "output_type": "execute_result"
    }
   ],
   "source": [
    "# Print # of missing values\n",
    "telco.isnull().sum()"
   ]
  },
  {
   "cell_type": "markdown",
   "metadata": {
    "colab_type": "text",
    "id": "KQLjB9OfCtox"
   },
   "source": [
    "**Observation 5:** The `TotalCharges` column has 11 missing values here - we can either drop them or impute the missing values with a statistical measure _(e.g. median or mean)_."
   ]
  },
  {
   "cell_type": "markdown",
   "metadata": {},
   "source": [
    "## **Handling missing values - dropping them or replacing them**\n",
    "To remove all rows with NaNs in column `x` use `dropna`:\n",
    "`telco = telco.dropna(subset=['TotalCharges'])`\n",
    "`telco['TotalCharges'].fillna(mode(telco['TotalCharges']).mode[0], inplace=True)`  \n",
    "We do not do it here but substitute missing values with their mean.\n",
    "Alternatively you can also replace missing values with their median\n",
    "`telco.loc[telco['TotalCharges'].isna(), 'TotalCharges'] = telco['TotalCharges'].median()`"
   ]
  },
  {
   "cell_type": "code",
   "execution_count": 14,
   "metadata": {},
   "outputs": [
    {
     "data": {
      "text/plain": [
       "(7043, 21)"
      ]
     },
     "execution_count": 14,
     "metadata": {},
     "output_type": "execute_result"
    }
   ],
   "source": [
    "telco['TotalCharges'].fillna((telco['TotalCharges'].mean()), inplace=True) \n",
    "telco.shape"
   ]
  },
  {
   "cell_type": "code",
   "execution_count": 15,
   "metadata": {
    "colab": {
     "base_uri": "https://localhost:8080/",
     "height": 302
    },
    "colab_type": "code",
    "id": "xoNNRE7M0iwc",
    "outputId": "a352383e-f546-41cb-8d26-dcfa9bb4e09f"
   },
   "outputs": [
    {
     "data": {
      "text/plain": [
       "<AxesSubplot:xlabel='TotalCharges'>"
      ]
     },
     "execution_count": 15,
     "metadata": {},
     "output_type": "execute_result"
    },
    {
     "data": {
      "image/png": "[encoded data removed]",
      "text/plain": [
       "<Figure size 432x288 with 1 Axes>"
      ]
     },
     "metadata": {
      "needs_background": "light"
     },
     "output_type": "display_data"
    }
   ],
   "source": [
    "# Visualize distribution of TotalCharges\n",
    "sns.distplot(telco['TotalCharges'])"
   ]
  },
  {
   "cell_type": "code",
   "execution_count": 16,
   "metadata": {
    "colab": {},
    "colab_type": "code",
    "id": "91WycNU30iwf"
   },
   "outputs": [
    {
     "data": {
      "text/plain": [
       "count    7043.000000\n",
       "mean     2283.300441\n",
       "std      2265.000258\n",
       "min        18.800000\n",
       "25%       402.225000\n",
       "50%      1400.550000\n",
       "75%      3786.600000\n",
       "max      8684.800000\n",
       "Name: TotalCharges, dtype: float64"
      ]
     },
     "execution_count": 16,
     "metadata": {},
     "output_type": "execute_result"
    }
   ],
   "source": [
    "# Get distribution of TotalCharges\n",
    "telco['TotalCharges'].describe()"
   ]
  },
  {
   "cell_type": "markdown",
   "metadata": {
    "colab_type": "text",
    "id": "TK3bVIjfD_GP"
   },
   "source": [
    "As a reminder, the `.loc[]` method lets us slice a DataFrame by a group of rows or columns by labels or boolean arrays - meaning we can subset a DataFrame `df` as such:\n",
    "\n",
    "```\n",
    "df.loc[row condition, column label]\n",
    "```"
   ]
  },
  {
   "cell_type": "code",
   "execution_count": 17,
   "metadata": {
    "colab": {},
    "colab_type": "code",
    "id": "9UkD8u1N0iwm"
   },
   "outputs": [
    {
     "data": {
      "text/plain": [
       "0"
      ]
     },
     "execution_count": 17,
     "metadata": {},
     "output_type": "execute_result"
    }
   ],
   "source": [
    "# Make sure that there are no more missing values\n",
    "telco['TotalCharges'].isna().sum()"
   ]
  },
  {
   "cell_type": "markdown",
   "metadata": {
    "colab_type": "text",
    "id": "nNXC7kmfEap4"
   },
   "source": [
    "**Task 3: Collapse** values of `InternetService` **column**\n",
    "\n",
    "To replace the values in of a column `col_A` in a DataFrame `df` - we can use the `.replace()` method which takes in a dictionary mapping the `old_value` to the `new_value` as such:\n",
    "\n",
    "```\n",
    "df['col_A'] = df['col_A'].replace({old_value : new_value})\n",
    "```\n"
   ]
  },
  {
   "cell_type": "code",
   "execution_count": 18,
   "metadata": {
    "colab": {
     "base_uri": "https://localhost:8080/",
     "height": 34
    },
    "colab_type": "code",
    "id": "l7lMvuss0iwo",
    "outputId": "1b3cf9e1-bf98-412f-f811-6a09385634b8"
   },
   "outputs": [
    {
     "data": {
      "text/plain": [
       "array(['DSL', 'Fiber optic', 'No'], dtype=object)"
      ]
     },
     "execution_count": 18,
     "metadata": {},
     "output_type": "execute_result"
    }
   ],
   "source": [
    "# Collapse 'dsl' into 'DSL'\n",
    "telco['InternetService'] = telco['InternetService'].replace({'dsl':\"DSL\"})\n",
    "telco['InternetService'].unique()"
   ]
  },
  {
   "cell_type": "markdown",
   "metadata": {
    "colab_type": "text",
    "id": "4Dp3t62t6klv"
   },
   "source": [
    "---\n",
    "<center><h1> Q&A 2</h1> </center>\n",
    "\n",
    "---"
   ]
  },
  {
   "cell_type": "markdown",
   "metadata": {
    "colab_type": "text",
    "id": "_0yg1rYr0iws"
   },
   "source": [
    "## **Exploratory Analysis for Machine Learning**"
   ]
  },
  {
   "cell_type": "markdown",
   "metadata": {
    "colab_type": "text",
    "id": "gFCOeFKaFdb8"
   },
   "source": [
    "In order to understand which models have predictive power, which variables to use in feature engineering, and to build a common sense understanding of what is driving churn to understand results, it essential to explore the data and observe how **features** interact with the **target** variable. \n",
    "\n",
    "There are broadly 3 types of data: \n",
    "\n",
    "- Continous _(e.g. age)_ data. \n",
    "- Categorical data _(e.g. marriage status)_. \n",
    "- Other *(e.g. image, tweets, etc...)*\n",
    "\n",
    "Let's visualize how continous and categorical data in `telco` behave with `Churn`."
   ]
  },
  {
   "cell_type": "code",
   "execution_count": 19,
   "metadata": {
    "colab": {},
    "colab_type": "code",
    "id": "rmxBKliY0iw0",
    "outputId": "5af6839d-969e-49ae-ba50-bb307c4f6da2"
   },
   "outputs": [
    {
     "data": {
      "text/html": [
       "<div>\n",
       "<style scoped>\n",
       "    .dataframe tbody tr th:only-of-type {\n",
       "        vertical-align: middle;\n",
       "    }\n",
       "\n",
       "    .dataframe tbody tr th {\n",
       "        vertical-align: top;\n",
       "    }\n",
       "\n",
       "    .dataframe thead th {\n",
       "        text-align: right;\n",
       "    }\n",
       "</style>\n",
       "<table border=\"1\" class=\"dataframe\">\n",
       "  <thead>\n",
       "    <tr style=\"text-align: right;\">\n",
       "      <th></th>\n",
       "      <th>Unnamed: 0</th>\n",
       "      <th>gender</th>\n",
       "      <th>SeniorCitizen</th>\n",
       "      <th>Partner</th>\n",
       "      <th>Dependents</th>\n",
       "      <th>tenure</th>\n",
       "      <th>PhoneService</th>\n",
       "      <th>MultipleLines</th>\n",
       "      <th>InternetService</th>\n",
       "      <th>OnlineSecurity</th>\n",
       "      <th>...</th>\n",
       "      <th>DeviceProtection</th>\n",
       "      <th>TechSupport</th>\n",
       "      <th>StreamingTV</th>\n",
       "      <th>StreamingMovies</th>\n",
       "      <th>Contract</th>\n",
       "      <th>PaperlessBilling</th>\n",
       "      <th>PaymentMethod</th>\n",
       "      <th>MonthlyCharges</th>\n",
       "      <th>TotalCharges</th>\n",
       "      <th>Churn</th>\n",
       "    </tr>\n",
       "  </thead>\n",
       "  <tbody>\n",
       "    <tr>\n",
       "      <th>0</th>\n",
       "      <td>0</td>\n",
       "      <td>Female</td>\n",
       "      <td>No</td>\n",
       "      <td>Yes</td>\n",
       "      <td>No</td>\n",
       "      <td>1</td>\n",
       "      <td>No</td>\n",
       "      <td>No phone service</td>\n",
       "      <td>DSL</td>\n",
       "      <td>No</td>\n",
       "      <td>...</td>\n",
       "      <td>No</td>\n",
       "      <td>No</td>\n",
       "      <td>No</td>\n",
       "      <td>No</td>\n",
       "      <td>Month-to-month</td>\n",
       "      <td>Yes</td>\n",
       "      <td>Electronic check</td>\n",
       "      <td>29.85</td>\n",
       "      <td>29.85</td>\n",
       "      <td>Stayed</td>\n",
       "    </tr>\n",
       "    <tr>\n",
       "      <th>1</th>\n",
       "      <td>1</td>\n",
       "      <td>Male</td>\n",
       "      <td>No</td>\n",
       "      <td>No</td>\n",
       "      <td>No</td>\n",
       "      <td>34</td>\n",
       "      <td>Yes</td>\n",
       "      <td>No</td>\n",
       "      <td>DSL</td>\n",
       "      <td>Yes</td>\n",
       "      <td>...</td>\n",
       "      <td>Yes</td>\n",
       "      <td>No</td>\n",
       "      <td>No</td>\n",
       "      <td>No</td>\n",
       "      <td>One year</td>\n",
       "      <td>No</td>\n",
       "      <td>Mailed check</td>\n",
       "      <td>56.95</td>\n",
       "      <td>1889.50</td>\n",
       "      <td>Stayed</td>\n",
       "    </tr>\n",
       "    <tr>\n",
       "      <th>2</th>\n",
       "      <td>2</td>\n",
       "      <td>Male</td>\n",
       "      <td>No</td>\n",
       "      <td>No</td>\n",
       "      <td>No</td>\n",
       "      <td>2</td>\n",
       "      <td>Yes</td>\n",
       "      <td>No</td>\n",
       "      <td>DSL</td>\n",
       "      <td>Yes</td>\n",
       "      <td>...</td>\n",
       "      <td>No</td>\n",
       "      <td>No</td>\n",
       "      <td>No</td>\n",
       "      <td>No</td>\n",
       "      <td>Month-to-month</td>\n",
       "      <td>Yes</td>\n",
       "      <td>Mailed check</td>\n",
       "      <td>53.85</td>\n",
       "      <td>108.15</td>\n",
       "      <td>Churned</td>\n",
       "    </tr>\n",
       "    <tr>\n",
       "      <th>3</th>\n",
       "      <td>3</td>\n",
       "      <td>Male</td>\n",
       "      <td>No</td>\n",
       "      <td>No</td>\n",
       "      <td>No</td>\n",
       "      <td>45</td>\n",
       "      <td>No</td>\n",
       "      <td>No phone service</td>\n",
       "      <td>DSL</td>\n",
       "      <td>Yes</td>\n",
       "      <td>...</td>\n",
       "      <td>Yes</td>\n",
       "      <td>Yes</td>\n",
       "      <td>No</td>\n",
       "      <td>No</td>\n",
       "      <td>One year</td>\n",
       "      <td>No</td>\n",
       "      <td>Bank transfer (automatic)</td>\n",
       "      <td>42.30</td>\n",
       "      <td>1840.75</td>\n",
       "      <td>Stayed</td>\n",
       "    </tr>\n",
       "    <tr>\n",
       "      <th>4</th>\n",
       "      <td>4</td>\n",
       "      <td>Female</td>\n",
       "      <td>No</td>\n",
       "      <td>No</td>\n",
       "      <td>No</td>\n",
       "      <td>2</td>\n",
       "      <td>Yes</td>\n",
       "      <td>No</td>\n",
       "      <td>Fiber optic</td>\n",
       "      <td>No</td>\n",
       "      <td>...</td>\n",
       "      <td>No</td>\n",
       "      <td>No</td>\n",
       "      <td>No</td>\n",
       "      <td>No</td>\n",
       "      <td>Month-to-month</td>\n",
       "      <td>Yes</td>\n",
       "      <td>Electronic check</td>\n",
       "      <td>70.70</td>\n",
       "      <td>151.65</td>\n",
       "      <td>Churned</td>\n",
       "    </tr>\n",
       "  </tbody>\n",
       "</table>\n",
       "<p>5 rows × 21 columns</p>\n",
       "</div>"
      ],
      "text/plain": [
       "   Unnamed: 0  gender SeniorCitizen Partner Dependents  tenure PhoneService  \\\n",
       "0           0  Female            No     Yes         No       1           No   \n",
       "1           1    Male            No      No         No      34          Yes   \n",
       "2           2    Male            No      No         No       2          Yes   \n",
       "3           3    Male            No      No         No      45           No   \n",
       "4           4  Female            No      No         No       2          Yes   \n",
       "\n",
       "      MultipleLines InternetService OnlineSecurity  ... DeviceProtection  \\\n",
       "0  No phone service             DSL             No  ...               No   \n",
       "1                No             DSL            Yes  ...              Yes   \n",
       "2                No             DSL            Yes  ...               No   \n",
       "3  No phone service             DSL            Yes  ...              Yes   \n",
       "4                No     Fiber optic             No  ...               No   \n",
       "\n",
       "  TechSupport StreamingTV StreamingMovies        Contract PaperlessBilling  \\\n",
       "0          No          No              No  Month-to-month              Yes   \n",
       "1          No          No              No        One year               No   \n",
       "2          No          No              No  Month-to-month              Yes   \n",
       "3         Yes          No              No        One year               No   \n",
       "4          No          No              No  Month-to-month              Yes   \n",
       "\n",
       "               PaymentMethod MonthlyCharges  TotalCharges    Churn  \n",
       "0           Electronic check          29.85         29.85   Stayed  \n",
       "1               Mailed check          56.95       1889.50   Stayed  \n",
       "2               Mailed check          53.85        108.15  Churned  \n",
       "3  Bank transfer (automatic)          42.30       1840.75   Stayed  \n",
       "4           Electronic check          70.70        151.65  Churned  \n",
       "\n",
       "[5 rows x 21 columns]"
      ]
     },
     "execution_count": 19,
     "metadata": {},
     "output_type": "execute_result"
    }
   ],
   "source": [
    "# Take a look at the header\n",
    "telco.head()"
   ]
  },
  {
   "cell_type": "markdown",
   "metadata": {
    "colab_type": "text",
    "id": "7uNWaUFiGsMP"
   },
   "source": [
    "> *A note on list comprehensions:*\n",
    ">\n",
    "> List comprehensions provide an elegant way to iteratively produce lists without using a traditional `for` loop. For example, here's how we can create a list of numbers from 0 to 9:\n",
    ">\n",
    "> ```\n",
    "> my_list = [i for i in range(0,10)]\n",
    ">\n",
    "> print(my_list)\n",
    ">\n",
    "> [0, 1, 2, 3, 4, 5, 6, 7, 8, 9]\n",
    "```\n",
    ">\n",
    "> It is also possible to add an `if` statement to create a condition while creating the list - here is an example where we create a list of numbers bigger than 3 from values ranging 0 to 9:\n",
    ">\n",
    ">```\n",
    "># Create a list of the doubles of values from 0 to 9\n",
    ">my_list = [i for i in range(0,10) if i > 3]\n",
    ">\n",
    ">print(my_list)\n",
    ">\n",
    ">[4, 5, 6, 7, 8, 9]\n",
    "```"
   ]
  },
  {
   "cell_type": "code",
   "execution_count": 20,
   "metadata": {
    "colab": {
     "base_uri": "https://localhost:8080/",
     "height": 374
    },
    "colab_type": "code",
    "id": "7hWyT3ncpq55",
    "outputId": "e3ed52de-d424-4a1d-fb53-871df4e9fec6"
   },
   "outputs": [
    {
     "data": {
      "text/plain": [
       "Unnamed: 0            int64\n",
       "gender               object\n",
       "SeniorCitizen        object\n",
       "Partner              object\n",
       "Dependents           object\n",
       "tenure                int64\n",
       "PhoneService         object\n",
       "MultipleLines        object\n",
       "InternetService      object\n",
       "OnlineSecurity       object\n",
       "OnlineBackup         object\n",
       "DeviceProtection     object\n",
       "TechSupport          object\n",
       "StreamingTV          object\n",
       "StreamingMovies      object\n",
       "Contract             object\n",
       "PaperlessBilling     object\n",
       "PaymentMethod        object\n",
       "MonthlyCharges      float64\n",
       "TotalCharges        float64\n",
       "Churn                object\n",
       "dtype: object"
      ]
     },
     "execution_count": 20,
     "metadata": {},
     "output_type": "execute_result"
    }
   ],
   "source": [
    "# Get dtypes of column\n",
    "telco.dtypes"
   ]
  },
  {
   "cell_type": "code",
   "execution_count": 21,
   "metadata": {
    "colab": {},
    "colab_type": "code",
    "id": "3znf0qLD0iw2"
   },
   "outputs": [],
   "source": [
    "# Get all features\n",
    "features = [column_name for column_name in telco.columns if column_name != 'Churn']\n",
    "\n",
    "# Get all categorical features\n",
    "categorical = [column_name for column_name in features if telco[column_name].dtype == 'object']\n",
    "\n",
    "# Get all numeric columns\n",
    "numeric = [column_name for column_name in features if column_name not in categorical]"
   ]
  },
  {
   "cell_type": "code",
   "execution_count": 22,
   "metadata": {},
   "outputs": [
    {
     "data": {
      "text/plain": [
       "['Unnamed: 0',\n",
       " 'gender',\n",
       " 'SeniorCitizen',\n",
       " 'Partner',\n",
       " 'Dependents',\n",
       " 'tenure',\n",
       " 'PhoneService',\n",
       " 'MultipleLines',\n",
       " 'InternetService',\n",
       " 'OnlineSecurity',\n",
       " 'OnlineBackup',\n",
       " 'DeviceProtection',\n",
       " 'TechSupport',\n",
       " 'StreamingTV',\n",
       " 'StreamingMovies',\n",
       " 'Contract',\n",
       " 'PaperlessBilling',\n",
       " 'PaymentMethod',\n",
       " 'MonthlyCharges',\n",
       " 'TotalCharges']"
      ]
     },
     "execution_count": 22,
     "metadata": {},
     "output_type": "execute_result"
    }
   ],
   "source": [
    "#Print out the features\n",
    "features"
   ]
  },
  {
   "cell_type": "code",
   "execution_count": 23,
   "metadata": {
    "colab": {
     "base_uri": "https://localhost:8080/",
     "height": 289
    },
    "colab_type": "code",
    "id": "RKwQt-V10iw6",
    "outputId": "174cc6a8-136f-4b0c-ab77-092de41359f7"
   },
   "outputs": [
    {
     "data": {
      "text/plain": [
       "['gender',\n",
       " 'SeniorCitizen',\n",
       " 'Partner',\n",
       " 'Dependents',\n",
       " 'PhoneService',\n",
       " 'MultipleLines',\n",
       " 'InternetService',\n",
       " 'OnlineSecurity',\n",
       " 'OnlineBackup',\n",
       " 'DeviceProtection',\n",
       " 'TechSupport',\n",
       " 'StreamingTV',\n",
       " 'StreamingMovies',\n",
       " 'Contract',\n",
       " 'PaperlessBilling',\n",
       " 'PaymentMethod']"
      ]
     },
     "execution_count": 23,
     "metadata": {},
     "output_type": "execute_result"
    }
   ],
   "source": [
    "# Print out the catergorical features \n",
    "categorical"
   ]
  },
  {
   "cell_type": "code",
   "execution_count": 25,
   "metadata": {},
   "outputs": [
    {
     "data": {
      "text/plain": [
       "['Unnamed: 0', 'tenure', 'MonthlyCharges', 'TotalCharges']"
      ]
     },
     "execution_count": 25,
     "metadata": {},
     "output_type": "execute_result"
    }
   ],
   "source": [
    "# Print out the numeric features them out and make sure\n",
    "numeric"
   ]
  },
  {
   "cell_type": "markdown",
   "metadata": {
    "colab_type": "text",
    "id": "etRPlz5mrpnL"
   },
   "source": [
    "### **Data Visualization Refresher** \n",
    "> \n",
    "> A `matplotlib` visualization is made of 3 components:\n",
    "> - A **figure** which houses in one or many subplots (or axes).\n",
    "> - The **axes** objects ~ the subplots within the figure.\n",
    "> - The plot inside each subplot or axes.\n",
    ">\n",
    "> We can generate a figure with subplots using the following function:\n",
    ">\n",
    "> `fig, axes = plt.subplots(nrow, ncol)`\n",
    "> "
   ]
  },
  {
   "cell_type": "markdown",
   "metadata": {
    "colab_type": "text",
    "id": "0kvRhH6VvSYP"
   },
   "source": [
    "#### *Visualizing target variable relationship with categorical features*\n",
    "\n",
    "To visualize the count of different categorical values by `Churn`, we can use the `sns.countplot(x, hue, data, ax)` function which takes in:\n",
    "- `x`: The column name being counted.\n",
    "- `hue`: The column name used for grouping the data.\n",
    "- `data`: The DataFrame being visualized.\n",
    "- `ax`: Which axes in the figure to assign the plot."
   ]
  },
  {
   "cell_type": "markdown",
   "metadata": {
    "colab": {
     "base_uri": "https://localhost:8080/",
     "height": 1000
    },
    "colab_type": "code",
    "id": "jz-uBHw50iw-",
    "outputId": "a9c7c920-1d1c-4d02-d94c-34bbe848c8e4"
   },
   "source": [
    "# Setting aesthetics for better viewing\n",
    "plt.rcParams[\"axes.labelsize\"] = 5\n",
    "sns.set(font_scale=5) \n",
    "\n",
    "# Create figure and axes\n",
    "fig, axes = plt.subplots(5, 3, figsize = (100, 100))\n",
    "\n",
    "# Iterate over each axes, and plot a countplot with categorical columns\n",
    "for ax, column in zip(axes.flatten(), categorical):\n",
    "    \n",
    "    # Create countplot\n",
    "    sns.countplot(x = column, hue =  'Churn', data = telco, ax = ax)\n",
    "    \n",
    "    # Set the title of each subplott\n",
    "    ax.set_title(column)\n",
    "\n",
    "    # Improve legends\n",
    "    handles, labels = ax.get_legend_handles_labels()\n",
    "    fig.legend(handles, labels, loc='right', fontsize = 48)\n",
    "    ax.get_legend().remove()"
   ]
  },
  {
   "cell_type": "markdown",
   "metadata": {
    "colab_type": "text",
    "id": "dyFXV1bnumI0"
   },
   "source": [
    "**Observation 6:** Gender seems to have a 50-50 split and values and does not affect Churn.\n",
    "\n",
    "**Observation 7:** `Fiber optic` Internet Service seems to be a driver of Churn.\n",
    "\n",
    "**Observation 8:** `OnlineBackup`, `DeviceProtection`, `TechSupport` and `OnlineSecurity` users tend to churn less."
   ]
  },
  {
   "cell_type": "markdown",
   "metadata": {
    "colab_type": "text",
    "id": "aQ7wyQbrvOG7"
   },
   "source": [
    "#### **Visualizing target variable relationship with continuous features**\n",
    "\n",
    "A great way to observe the differences between two groups (or categories) of data according to a numeric value is a boxplot, which visualizes the following:\n",
    "\n",
    "\n",
    "It can be visusalized as such:\n",
    "\n",
    "- `sns.boxplot(x=, y=, data=)`\n",
    "  - `x`: Categorical variable we want to group our data by.\n",
    "  - `y`: Numeric variable being observed by group.\n",
    "  - `data`: The DataFrame being used.\n",
    "  "
   ]
  },
  {
   "cell_type": "markdown",
   "metadata": {
    "colab": {
     "base_uri": "https://localhost:8080/",
     "height": 518
    },
    "colab_type": "code",
    "id": "wTQU6my40ixF",
    "outputId": "79cde12f-dd8c-4f2b-d688-a6962d5a6fce"
   },
   "source": [
    "# Setting aesthetics for better viewing\n",
    "plt.rcParams[\"axes.labelsize\"] = 1\n",
    "sns.set(font_scale=1) \n",
    " \n",
    "# Create figure and axes\n",
    "fig, axes = plt.subplots(1, 3, figsize = (20, 8))\n",
    "\n",
    "# Iterate over each axes, and plot a boxplot with numeric columns\n",
    "for ax, column in zip(axes.flatten(), numeric):\n",
    "    \n",
    "    # Create a boxplot\n",
    "    sns.boxplot(x = \"Churn\", y = column, data = telco, ax = ax)\n",
    "    \n",
    "    # Set title\n",
    "    ax.set_title(column)"
   ]
  },
  {
   "cell_type": "markdown",
   "metadata": {
    "colab_type": "text",
    "id": "64JAbMPlwRnx"
   },
   "source": [
    "**Observation 8:** Higher monthly charges tend to be related to Churn.\n",
    "\n",
    "**Observation 9:** Tenure may seem predictive, but it could very well much be that churners have low tenure by nature because they are churning."
   ]
  },
  {
   "cell_type": "markdown",
   "metadata": {
    "colab_type": "text",
    "id": "JwY6BYxn6osc"
   },
   "source": [
    "---\n",
    "<center><h1> Data Pre-Processing </h1> </center>\n",
    "\n",
    "---"
   ]
  },
  {
   "cell_type": "markdown",
   "metadata": {
    "colab_type": "text",
    "id": "HP69JRvx0ixL"
   },
   "source": [
    "## **Data pre-processing for machine learning**"
   ]
  },
  {
   "cell_type": "markdown",
   "metadata": {
    "colab_type": "text",
    "id": "HXDndg5fxU10"
   },
   "source": [
    "Many machine learning algorithms require data to be processed before being passed into an algorithm first - dependent on whether data is numeric or categorical, the processing strategy is different.\n",
    "\n",
    "**Continuous or numeric data**\n",
    "\n",
    "Many machine learning models make assumptions about the distribution of numeric features when modeling (most commonly data is assumed to be normally distributed). Also, many numeric columns have different scales _(e.g. Age vs Salary)_. \n",
    "\n",
    "A common way to process numeric columns is through **Standardization** - where we substract their mean and divide by their standard deviation so that their mean becomes centered around 0 and have a standard deviation of 1 :\n",
    "\n",
    "$$\\large{x_{scaled} = \\frac{x - mean}{std}}$$\n",
    "\n",
    "<br>\n",
    "\n",
    "\n",
    "<br>\n",
    "\n",
    "We can do this easily in `sklearn` by using the `StandardScaler()` function. Many operations in `sklearn` fit the following `.fit()` $\\rightarrow$ `.transform()` paradigm and `StandardScaler()` is no different:\n",
    "\n",
    "```\n",
    "from sklearn.preprocessing import StandardScaler\n",
    "scaler = StandardScaler()\n",
    "\n",
    "# Fit on data\n",
    "scaler.fit(df[my_column])\n",
    "\n",
    "# Transformed\n",
    "column_scaled = scaler.transform(df[my_column])\n",
    "\n",
    "# Replace column\n",
    "df[my_column] = column_scaled\n",
    "```\n",
    "\n",
    "However, it is very important to **first split** your data before scaling your features since we do not want to scale our data according to the distribution of both the training data and test data. Failing to do so results in **data leakage** and could lead to \"too good to be true\" results on testing data with relatively weaker results on unseen data. \n",
    "\n",
    "<font color=00AAFF>Ideally, scalers should be fit on **training data only** - and be used to transform both training and testing data.</font>"
   ]
  },
  {
   "cell_type": "code",
   "execution_count": 26,
   "metadata": {
    "colab": {},
    "colab_type": "code",
    "id": "9g4VgqJm0ixR"
   },
   "outputs": [],
   "source": [
    "# Split data between X and label\n",
    "X = telco[features]\n",
    "y = telco['Churn'].replace({'Stayed': 0, 'Churned':1})"
   ]
  },
  {
   "cell_type": "code",
   "execution_count": 27,
   "metadata": {
    "colab": {},
    "colab_type": "code",
    "id": "_DQPNtFc0ixU"
   },
   "outputs": [],
   "source": [
    "# Import train_test_split\n",
    "from sklearn.model_selection import train_test_split\n",
    "\n",
    "# Split data into train test splits\n",
    "train_X, test_X, train_Y, test_Y = train_test_split(X, y, test_size = 0.25, random_state=123)"
   ]
  },
  {
   "cell_type": "code",
   "execution_count": 28,
   "metadata": {
    "colab": {},
    "colab_type": "code",
    "id": "Os66Te3M0ixY"
   },
   "outputs": [
    {
     "data": {
      "text/plain": [
       "StandardScaler(copy=True, with_mean=True, with_std=True)"
      ]
     },
     "execution_count": 28,
     "metadata": {},
     "output_type": "execute_result"
    }
   ],
   "source": [
    "# Import StandardScaler\n",
    "from sklearn.preprocessing import StandardScaler\n",
    "\n",
    "# Intialize a scaler\n",
    "scaler = StandardScaler()\n",
    "\n",
    "# Fit on training data\n",
    "scaler.fit(train_X[numeric])\n",
    "\n",
    "# Transform training and test data\n",
    "train_numeric_transform = scaler.transform(train_X[numeric])\n",
    "test_numeric_transform = scaler.transform(test_X[numeric])"
   ]
  },
  {
   "cell_type": "code",
   "execution_count": 36,
   "metadata": {
    "colab": {
     "base_uri": "https://localhost:8080/",
     "height": 323
    },
    "colab_type": "code",
    "id": "cKBTS0PS0ixe",
    "outputId": "d6e5d49b-d6c5-4a94-c114-7634b83c69c9"
   },
   "outputs": [],
   "source": [
    "# Replace columns in training and testing data accordingly\n",
    "train_X[numeric] = train_numeric_transform\n",
    "test_X[numeric] = test_numeric_transform"
   ]
  },
  {
   "cell_type": "markdown",
   "metadata": {
    "colab_type": "text",
    "id": "Vf6Erb-M3xxE"
   },
   "source": [
    "**Categorical data**\n",
    "\n",
    "While categorical variables like country, marriage status and more are easily interpretable by humans - they need to be properly encoded to be understood by machine learning algorithms. We will be using dummy encoding *(highly similar to one-hot encoding)* where categorical variables are converted to binary (`1`,`0`) columns to indicate whether they have a certain value or not. Note that, dummy encoding generates `n-1` categories. Using a country example - `0` on all columns encodes it as France.\n",
    "\n",
    "<br>\n",
    "\n",
    "\n",
    "Using dummy encoding in `pandas` is actually very easy - we can use the `pd.get_dummies()` function which takes:\n",
    "\n",
    "- The DataFrame being converted.\n",
    "- `columns`: The name of the categorical columns to be converted.\n",
    "- `drop_first`: Boolean to indicate onehot encoding (`False`) or dummy encoding (`True`).\n",
    "\n",
    "\n"
   ]
  },
  {
   "cell_type": "code",
   "execution_count": 38,
   "metadata": {
    "colab": {},
    "colab_type": "code",
    "id": "RgPhMhuP0ixh"
   },
   "outputs": [
    {
     "ename": "KeyError",
     "evalue": "\"None of [Index(['gender', 'SeniorCitizen', 'Partner', 'Dependents', 'PhoneService',\\n       'MultipleLines', 'InternetService', 'OnlineSecurity', 'OnlineBackup',\\n       'DeviceProtection', 'TechSupport', 'StreamingTV', 'StreamingMovies',\\n       'Contract', 'PaperlessBilling', 'PaymentMethod'],\\n      dtype='object')] are in the [columns]\"",
     "output_type": "error",
     "traceback": [
      "\u001b[1;31m---------------------------------------------------------------------------\u001b[0m",
      "\u001b[1;31mKeyError\u001b[0m                                  Traceback (most recent call last)",
      "\u001b[1;32m<ipython-input-38-e68d610e8e13>\u001b[0m in \u001b[0;36m<module>\u001b[1;34m\u001b[0m\n\u001b[0;32m      1\u001b[0m \u001b[1;31m# Use One hot encoding to code categorical variables\u001b[0m\u001b[1;33m\u001b[0m\u001b[1;33m\u001b[0m\u001b[1;33m\u001b[0m\u001b[0m\n\u001b[1;32m----> 2\u001b[1;33m \u001b[0mtrain_X\u001b[0m \u001b[1;33m=\u001b[0m \u001b[0mpd\u001b[0m\u001b[1;33m.\u001b[0m\u001b[0mget_dummies\u001b[0m\u001b[1;33m(\u001b[0m\u001b[0mtrain_X\u001b[0m\u001b[1;33m,\u001b[0m \u001b[0mcolumns\u001b[0m \u001b[1;33m=\u001b[0m \u001b[0mcategorical\u001b[0m\u001b[1;33m,\u001b[0m  \u001b[0mdrop_first\u001b[0m \u001b[1;33m=\u001b[0m \u001b[1;32mTrue\u001b[0m\u001b[1;33m)\u001b[0m\u001b[1;33m\u001b[0m\u001b[1;33m\u001b[0m\u001b[0m\n\u001b[0m\u001b[0;32m      3\u001b[0m \u001b[0mtest_X\u001b[0m \u001b[1;33m=\u001b[0m \u001b[0mpd\u001b[0m\u001b[1;33m.\u001b[0m\u001b[0mget_dummies\u001b[0m\u001b[1;33m(\u001b[0m\u001b[0mtest_X\u001b[0m\u001b[1;33m,\u001b[0m \u001b[0mcolumns\u001b[0m \u001b[1;33m=\u001b[0m \u001b[0mcategorical\u001b[0m\u001b[1;33m,\u001b[0m  \u001b[0mdrop_first\u001b[0m \u001b[1;33m=\u001b[0m \u001b[1;32mTrue\u001b[0m\u001b[1;33m)\u001b[0m\u001b[1;33m\u001b[0m\u001b[1;33m\u001b[0m\u001b[0m\n",
      "\u001b[1;32mE:\\Anaconda\\lib\\site-packages\\pandas\\core\\reshape\\reshape.py\u001b[0m in \u001b[0;36mget_dummies\u001b[1;34m(data, prefix, prefix_sep, dummy_na, columns, sparse, drop_first, dtype)\u001b[0m\n\u001b[0;32m    845\u001b[0m             \u001b[1;32mraise\u001b[0m \u001b[0mTypeError\u001b[0m\u001b[1;33m(\u001b[0m\u001b[1;34m\"Input must be a list-like for parameter `columns`\"\u001b[0m\u001b[1;33m)\u001b[0m\u001b[1;33m\u001b[0m\u001b[1;33m\u001b[0m\u001b[0m\n\u001b[0;32m    846\u001b[0m         \u001b[1;32melse\u001b[0m\u001b[1;33m:\u001b[0m\u001b[1;33m\u001b[0m\u001b[1;33m\u001b[0m\u001b[0m\n\u001b[1;32m--> 847\u001b[1;33m             \u001b[0mdata_to_encode\u001b[0m \u001b[1;33m=\u001b[0m \u001b[0mdata\u001b[0m\u001b[1;33m[\u001b[0m\u001b[0mcolumns\u001b[0m\u001b[1;33m]\u001b[0m\u001b[1;33m\u001b[0m\u001b[1;33m\u001b[0m\u001b[0m\n\u001b[0m\u001b[0;32m    848\u001b[0m \u001b[1;33m\u001b[0m\u001b[0m\n\u001b[0;32m    849\u001b[0m         \u001b[1;31m# validate prefixes and separator to avoid silently dropping cols\u001b[0m\u001b[1;33m\u001b[0m\u001b[1;33m\u001b[0m\u001b[1;33m\u001b[0m\u001b[0m\n",
      "\u001b[1;32mE:\\Anaconda\\lib\\site-packages\\pandas\\core\\frame.py\u001b[0m in \u001b[0;36m__getitem__\u001b[1;34m(self, key)\u001b[0m\n\u001b[0;32m   3028\u001b[0m             \u001b[1;32mif\u001b[0m \u001b[0mis_iterator\u001b[0m\u001b[1;33m(\u001b[0m\u001b[0mkey\u001b[0m\u001b[1;33m)\u001b[0m\u001b[1;33m:\u001b[0m\u001b[1;33m\u001b[0m\u001b[1;33m\u001b[0m\u001b[0m\n\u001b[0;32m   3029\u001b[0m                 \u001b[0mkey\u001b[0m \u001b[1;33m=\u001b[0m \u001b[0mlist\u001b[0m\u001b[1;33m(\u001b[0m\u001b[0mkey\u001b[0m\u001b[1;33m)\u001b[0m\u001b[1;33m\u001b[0m\u001b[1;33m\u001b[0m\u001b[0m\n\u001b[1;32m-> 3030\u001b[1;33m             \u001b[0mindexer\u001b[0m \u001b[1;33m=\u001b[0m \u001b[0mself\u001b[0m\u001b[1;33m.\u001b[0m\u001b[0mloc\u001b[0m\u001b[1;33m.\u001b[0m\u001b[0m_get_listlike_indexer\u001b[0m\u001b[1;33m(\u001b[0m\u001b[0mkey\u001b[0m\u001b[1;33m,\u001b[0m \u001b[0maxis\u001b[0m\u001b[1;33m=\u001b[0m\u001b[1;36m1\u001b[0m\u001b[1;33m,\u001b[0m \u001b[0mraise_missing\u001b[0m\u001b[1;33m=\u001b[0m\u001b[1;32mTrue\u001b[0m\u001b[1;33m)\u001b[0m\u001b[1;33m[\u001b[0m\u001b[1;36m1\u001b[0m\u001b[1;33m]\u001b[0m\u001b[1;33m\u001b[0m\u001b[1;33m\u001b[0m\u001b[0m\n\u001b[0m\u001b[0;32m   3031\u001b[0m \u001b[1;33m\u001b[0m\u001b[0m\n\u001b[0;32m   3032\u001b[0m         \u001b[1;31m# take() does not accept boolean indexers\u001b[0m\u001b[1;33m\u001b[0m\u001b[1;33m\u001b[0m\u001b[1;33m\u001b[0m\u001b[0m\n",
      "\u001b[1;32mE:\\Anaconda\\lib\\site-packages\\pandas\\core\\indexing.py\u001b[0m in \u001b[0;36m_get_listlike_indexer\u001b[1;34m(self, key, axis, raise_missing)\u001b[0m\n\u001b[0;32m   1264\u001b[0m             \u001b[0mkeyarr\u001b[0m\u001b[1;33m,\u001b[0m \u001b[0mindexer\u001b[0m\u001b[1;33m,\u001b[0m \u001b[0mnew_indexer\u001b[0m \u001b[1;33m=\u001b[0m \u001b[0max\u001b[0m\u001b[1;33m.\u001b[0m\u001b[0m_reindex_non_unique\u001b[0m\u001b[1;33m(\u001b[0m\u001b[0mkeyarr\u001b[0m\u001b[1;33m)\u001b[0m\u001b[1;33m\u001b[0m\u001b[1;33m\u001b[0m\u001b[0m\n\u001b[0;32m   1265\u001b[0m \u001b[1;33m\u001b[0m\u001b[0m\n\u001b[1;32m-> 1266\u001b[1;33m         \u001b[0mself\u001b[0m\u001b[1;33m.\u001b[0m\u001b[0m_validate_read_indexer\u001b[0m\u001b[1;33m(\u001b[0m\u001b[0mkeyarr\u001b[0m\u001b[1;33m,\u001b[0m \u001b[0mindexer\u001b[0m\u001b[1;33m,\u001b[0m \u001b[0maxis\u001b[0m\u001b[1;33m,\u001b[0m \u001b[0mraise_missing\u001b[0m\u001b[1;33m=\u001b[0m\u001b[0mraise_missing\u001b[0m\u001b[1;33m)\u001b[0m\u001b[1;33m\u001b[0m\u001b[1;33m\u001b[0m\u001b[0m\n\u001b[0m\u001b[0;32m   1267\u001b[0m         \u001b[1;32mreturn\u001b[0m \u001b[0mkeyarr\u001b[0m\u001b[1;33m,\u001b[0m \u001b[0mindexer\u001b[0m\u001b[1;33m\u001b[0m\u001b[1;33m\u001b[0m\u001b[0m\n\u001b[0;32m   1268\u001b[0m \u001b[1;33m\u001b[0m\u001b[0m\n",
      "\u001b[1;32mE:\\Anaconda\\lib\\site-packages\\pandas\\core\\indexing.py\u001b[0m in \u001b[0;36m_validate_read_indexer\u001b[1;34m(self, key, indexer, axis, raise_missing)\u001b[0m\n\u001b[0;32m   1306\u001b[0m             \u001b[1;32mif\u001b[0m \u001b[0mmissing\u001b[0m \u001b[1;33m==\u001b[0m \u001b[0mlen\u001b[0m\u001b[1;33m(\u001b[0m\u001b[0mindexer\u001b[0m\u001b[1;33m)\u001b[0m\u001b[1;33m:\u001b[0m\u001b[1;33m\u001b[0m\u001b[1;33m\u001b[0m\u001b[0m\n\u001b[0;32m   1307\u001b[0m                 \u001b[0maxis_name\u001b[0m \u001b[1;33m=\u001b[0m \u001b[0mself\u001b[0m\u001b[1;33m.\u001b[0m\u001b[0mobj\u001b[0m\u001b[1;33m.\u001b[0m\u001b[0m_get_axis_name\u001b[0m\u001b[1;33m(\u001b[0m\u001b[0maxis\u001b[0m\u001b[1;33m)\u001b[0m\u001b[1;33m\u001b[0m\u001b[1;33m\u001b[0m\u001b[0m\n\u001b[1;32m-> 1308\u001b[1;33m                 \u001b[1;32mraise\u001b[0m \u001b[0mKeyError\u001b[0m\u001b[1;33m(\u001b[0m\u001b[1;34mf\"None of [{key}] are in the [{axis_name}]\"\u001b[0m\u001b[1;33m)\u001b[0m\u001b[1;33m\u001b[0m\u001b[1;33m\u001b[0m\u001b[0m\n\u001b[0m\u001b[0;32m   1309\u001b[0m \u001b[1;33m\u001b[0m\u001b[0m\n\u001b[0;32m   1310\u001b[0m             \u001b[0max\u001b[0m \u001b[1;33m=\u001b[0m \u001b[0mself\u001b[0m\u001b[1;33m.\u001b[0m\u001b[0mobj\u001b[0m\u001b[1;33m.\u001b[0m\u001b[0m_get_axis\u001b[0m\u001b[1;33m(\u001b[0m\u001b[0maxis\u001b[0m\u001b[1;33m)\u001b[0m\u001b[1;33m\u001b[0m\u001b[1;33m\u001b[0m\u001b[0m\n",
      "\u001b[1;31mKeyError\u001b[0m: \"None of [Index(['gender', 'SeniorCitizen', 'Partner', 'Dependents', 'PhoneService',\\n       'MultipleLines', 'InternetService', 'OnlineSecurity', 'OnlineBackup',\\n       'DeviceProtection', 'TechSupport', 'StreamingTV', 'StreamingMovies',\\n       'Contract', 'PaperlessBilling', 'PaymentMethod'],\\n      dtype='object')] are in the [columns]\""
     ]
    }
   ],
   "source": [
    "# Use One hot encoding to code categorical variables\n",
    "train_X = pd.get_dummies(train_X, columns = categorical,  drop_first = True)\n",
    "test_X = pd.get_dummies(test_X, columns = categorical,  drop_first = True)"
   ]
  },
  {
   "cell_type": "markdown",
   "metadata": {
    "colab_type": "text",
    "id": "BRopXo88Ehsh"
   },
   "source": [
    "**Feature Engineering**\n",
    "\n",
    "Generating new predictive features from existing features is an important aspect of machine learning. New features could be engineered using:\n",
    "\n",
    "- Binning numeric values _(e.g. `age_category` column from `age` column)._\n",
    "- Interaction of 2 columns _(e.g. `total_salary`/`tenure`)._\n",
    "- Features from domain knowledge.\n",
    "\n",
    "We learned while visualizing categorical columns that being subscribed to `OnlineSecurity`, `OnlineBackup`, `DeviceProtection`, and `TechSupport` tend to drive less churn. Let's visualize this further with a new feature called `in_ecosystem` which counts the number of services a given customer is subscribed to.\n"
   ]
  },
  {
   "cell_type": "code",
   "execution_count": 39,
   "metadata": {
    "colab": {},
    "colab_type": "code",
    "id": "ssdA-5wC0ixq"
   },
   "outputs": [],
   "source": [
    "# Re-add Churned to add to train and test\n",
    "train_X['Churn'] = train_Y\n",
    "test_X['Churn'] = test_Y"
   ]
  },
  {
   "cell_type": "code",
   "execution_count": 40,
   "metadata": {
    "colab": {
     "base_uri": "https://localhost:8080/",
     "height": 258
    },
    "colab_type": "code",
    "id": "44suakgKGO8R",
    "outputId": "f95c7efd-b26f-484f-ad97-50760db1323f"
   },
   "outputs": [
    {
     "data": {
      "text/html": [
       "<div>\n",
       "<style scoped>\n",
       "    .dataframe tbody tr th:only-of-type {\n",
       "        vertical-align: middle;\n",
       "    }\n",
       "\n",
       "    .dataframe tbody tr th {\n",
       "        vertical-align: top;\n",
       "    }\n",
       "\n",
       "    .dataframe thead th {\n",
       "        text-align: right;\n",
       "    }\n",
       "</style>\n",
       "<table border=\"1\" class=\"dataframe\">\n",
       "  <thead>\n",
       "    <tr style=\"text-align: right;\">\n",
       "      <th></th>\n",
       "      <th>Unnamed: 0</th>\n",
       "      <th>tenure</th>\n",
       "      <th>MonthlyCharges</th>\n",
       "      <th>TotalCharges</th>\n",
       "      <th>gender_Male</th>\n",
       "      <th>SeniorCitizen_Yes</th>\n",
       "      <th>Partner_Yes</th>\n",
       "      <th>Dependents_Yes</th>\n",
       "      <th>PhoneService_Yes</th>\n",
       "      <th>MultipleLines_No phone service</th>\n",
       "      <th>...</th>\n",
       "      <th>StreamingTV_Yes</th>\n",
       "      <th>StreamingMovies_No internet service</th>\n",
       "      <th>StreamingMovies_Yes</th>\n",
       "      <th>Contract_One year</th>\n",
       "      <th>Contract_Two year</th>\n",
       "      <th>PaperlessBilling_Yes</th>\n",
       "      <th>PaymentMethod_Credit card (automatic)</th>\n",
       "      <th>PaymentMethod_Electronic check</th>\n",
       "      <th>PaymentMethod_Mailed check</th>\n",
       "      <th>Churn</th>\n",
       "    </tr>\n",
       "  </thead>\n",
       "  <tbody>\n",
       "    <tr>\n",
       "      <th>6464</th>\n",
       "      <td>1.449203</td>\n",
       "      <td>0.707712</td>\n",
       "      <td>0.185175</td>\n",
       "      <td>0.513153</td>\n",
       "      <td>1</td>\n",
       "      <td>1</td>\n",
       "      <td>0</td>\n",
       "      <td>0</td>\n",
       "      <td>1</td>\n",
       "      <td>0</td>\n",
       "      <td>...</td>\n",
       "      <td>1</td>\n",
       "      <td>0</td>\n",
       "      <td>0</td>\n",
       "      <td>0</td>\n",
       "      <td>0</td>\n",
       "      <td>1</td>\n",
       "      <td>0</td>\n",
       "      <td>0</td>\n",
       "      <td>0</td>\n",
       "      <td>0</td>\n",
       "    </tr>\n",
       "    <tr>\n",
       "      <th>5707</th>\n",
       "      <td>1.076404</td>\n",
       "      <td>-1.248999</td>\n",
       "      <td>-0.641538</td>\n",
       "      <td>-0.980261</td>\n",
       "      <td>0</td>\n",
       "      <td>0</td>\n",
       "      <td>0</td>\n",
       "      <td>0</td>\n",
       "      <td>1</td>\n",
       "      <td>0</td>\n",
       "      <td>...</td>\n",
       "      <td>0</td>\n",
       "      <td>0</td>\n",
       "      <td>0</td>\n",
       "      <td>0</td>\n",
       "      <td>0</td>\n",
       "      <td>0</td>\n",
       "      <td>0</td>\n",
       "      <td>1</td>\n",
       "      <td>0</td>\n",
       "      <td>0</td>\n",
       "    </tr>\n",
       "    <tr>\n",
       "      <th>3442</th>\n",
       "      <td>-0.039036</td>\n",
       "      <td>-0.148349</td>\n",
       "      <td>1.133562</td>\n",
       "      <td>0.226231</td>\n",
       "      <td>1</td>\n",
       "      <td>0</td>\n",
       "      <td>0</td>\n",
       "      <td>0</td>\n",
       "      <td>1</td>\n",
       "      <td>0</td>\n",
       "      <td>...</td>\n",
       "      <td>1</td>\n",
       "      <td>0</td>\n",
       "      <td>1</td>\n",
       "      <td>0</td>\n",
       "      <td>0</td>\n",
       "      <td>1</td>\n",
       "      <td>1</td>\n",
       "      <td>0</td>\n",
       "      <td>0</td>\n",
       "      <td>0</td>\n",
       "    </tr>\n",
       "    <tr>\n",
       "      <th>3932</th>\n",
       "      <td>0.202273</td>\n",
       "      <td>-1.248999</td>\n",
       "      <td>0.458524</td>\n",
       "      <td>-0.951391</td>\n",
       "      <td>0</td>\n",
       "      <td>1</td>\n",
       "      <td>0</td>\n",
       "      <td>0</td>\n",
       "      <td>1</td>\n",
       "      <td>0</td>\n",
       "      <td>...</td>\n",
       "      <td>0</td>\n",
       "      <td>0</td>\n",
       "      <td>0</td>\n",
       "      <td>0</td>\n",
       "      <td>0</td>\n",
       "      <td>1</td>\n",
       "      <td>0</td>\n",
       "      <td>1</td>\n",
       "      <td>0</td>\n",
       "      <td>1</td>\n",
       "    </tr>\n",
       "    <tr>\n",
       "      <th>6124</th>\n",
       "      <td>1.281764</td>\n",
       "      <td>0.993065</td>\n",
       "      <td>-0.183179</td>\n",
       "      <td>0.433280</td>\n",
       "      <td>0</td>\n",
       "      <td>0</td>\n",
       "      <td>1</td>\n",
       "      <td>1</td>\n",
       "      <td>1</td>\n",
       "      <td>0</td>\n",
       "      <td>...</td>\n",
       "      <td>0</td>\n",
       "      <td>0</td>\n",
       "      <td>0</td>\n",
       "      <td>1</td>\n",
       "      <td>0</td>\n",
       "      <td>1</td>\n",
       "      <td>0</td>\n",
       "      <td>0</td>\n",
       "      <td>1</td>\n",
       "      <td>0</td>\n",
       "    </tr>\n",
       "  </tbody>\n",
       "</table>\n",
       "<p>5 rows × 32 columns</p>\n",
       "</div>"
      ],
      "text/plain": [
       "      Unnamed: 0    tenure  MonthlyCharges  TotalCharges  gender_Male  \\\n",
       "6464    1.449203  0.707712        0.185175      0.513153            1   \n",
       "5707    1.076404 -1.248999       -0.641538     -0.980261            0   \n",
       "3442   -0.039036 -0.148349        1.133562      0.226231            1   \n",
       "3932    0.202273 -1.248999        0.458524     -0.951391            0   \n",
       "6124    1.281764  0.993065       -0.183179      0.433280            0   \n",
       "\n",
       "      SeniorCitizen_Yes  Partner_Yes  Dependents_Yes  PhoneService_Yes  \\\n",
       "6464                  1            0               0                 1   \n",
       "5707                  0            0               0                 1   \n",
       "3442                  0            0               0                 1   \n",
       "3932                  1            0               0                 1   \n",
       "6124                  0            1               1                 1   \n",
       "\n",
       "      MultipleLines_No phone service  ...  StreamingTV_Yes  \\\n",
       "6464                               0  ...                1   \n",
       "5707                               0  ...                0   \n",
       "3442                               0  ...                1   \n",
       "3932                               0  ...                0   \n",
       "6124                               0  ...                0   \n",
       "\n",
       "      StreamingMovies_No internet service  StreamingMovies_Yes  \\\n",
       "6464                                    0                    0   \n",
       "5707                                    0                    0   \n",
       "3442                                    0                    1   \n",
       "3932                                    0                    0   \n",
       "6124                                    0                    0   \n",
       "\n",
       "      Contract_One year  Contract_Two year  PaperlessBilling_Yes  \\\n",
       "6464                  0                  0                     1   \n",
       "5707                  0                  0                     0   \n",
       "3442                  0                  0                     1   \n",
       "3932                  0                  0                     1   \n",
       "6124                  1                  0                     1   \n",
       "\n",
       "      PaymentMethod_Credit card (automatic)  PaymentMethod_Electronic check  \\\n",
       "6464                                      0                               0   \n",
       "5707                                      0                               1   \n",
       "3442                                      1                               0   \n",
       "3932                                      0                               1   \n",
       "6124                                      0                               0   \n",
       "\n",
       "      PaymentMethod_Mailed check  Churn  \n",
       "6464                           0      0  \n",
       "5707                           0      0  \n",
       "3442                           0      0  \n",
       "3932                           0      1  \n",
       "6124                           1      0  \n",
       "\n",
       "[5 rows x 32 columns]"
      ]
     },
     "execution_count": 40,
     "metadata": {},
     "output_type": "execute_result"
    }
   ],
   "source": [
    "# Check out header again\n",
    "train_X.head()"
   ]
  },
  {
   "cell_type": "code",
   "execution_count": 42,
   "metadata": {
    "colab": {
     "base_uri": "https://localhost:8080/",
     "height": 296
    },
    "colab_type": "code",
    "id": "unCbSHWjGQcY",
    "outputId": "63c217f3-c6b9-4d1c-8341-7f9360ade333"
   },
   "outputs": [
    {
     "data": {
      "text/plain": [
       "0    2098\n",
       "1    1096\n",
       "2    1034\n",
       "3     707\n",
       "4     347\n",
       "Name: in_ecosystem, dtype: int64"
      ]
     },
     "execution_count": 42,
     "metadata": {},
     "output_type": "execute_result"
    },
    {
     "data": {
      "text/plain": [
       "<AxesSubplot:xlabel='Churn', ylabel='in_ecosystem'>"
      ]
     },
     "execution_count": 42,
     "metadata": {},
     "output_type": "execute_result"
    },
    {
     "data": {
      "image/png": "[encoded data removed]",
      "text/plain": [
       "<Figure size 432x288 with 1 Axes>"
      ]
     },
     "metadata": {
      "needs_background": "light"
     },
     "output_type": "display_data"
    }
   ],
   "source": [
    "# Service columns\n",
    "service_columns = ['OnlineSecurity_Yes', 'OnlineBackup_Yes', 'DeviceProtection_Yes', 'TechSupport_Yes']\n",
    "\n",
    "# Create in_ecosystem column\n",
    "train_X['in_ecosystem'] = train_X[service_columns].sum(axis = 1)\n",
    "train_X['in_ecosystem'].value_counts()\n",
    "# Visualize churn by number of services subscribed\n",
    "sns.boxplot('Churn', 'in_ecosystem', data = train_X)"
   ]
  },
  {
   "cell_type": "code",
   "execution_count": 43,
   "metadata": {
    "colab": {},
    "colab_type": "code",
    "id": "5MKUJnDV0ix9"
   },
   "outputs": [
    {
     "data": {
      "text/plain": [
       "0    3194\n",
       "1    2088\n",
       "Name: in_ecosystem, dtype: int64"
      ]
     },
     "execution_count": 43,
     "metadata": {},
     "output_type": "execute_result"
    },
    {
     "data": {
      "text/plain": [
       "0    1066\n",
       "1     695\n",
       "Name: in_ecosystem, dtype: int64"
      ]
     },
     "execution_count": 43,
     "metadata": {},
     "output_type": "execute_result"
    }
   ],
   "source": [
    "# Create feature that is 1 if 2 or more services subscribed, 0 otherwise\n",
    "train_X['in_ecosystem'] = np.where(train_X['in_ecosystem'] >= 2, 1 , 0)\n",
    "train_X['in_ecosystem'].value_counts()\n",
    "# Apply the same on test_X\n",
    "test_X['in_ecosystem'] = test_X[service_columns].sum(axis = 1)\n",
    "test_X['in_ecosystem'] = np.where(test_X['in_ecosystem'] >= 2, 1 , 0)\n",
    "test_X['in_ecosystem'].value_counts()"
   ]
  },
  {
   "cell_type": "code",
   "execution_count": 44,
   "metadata": {
    "colab": {},
    "colab_type": "code",
    "id": "K88S8T_s0iyA"
   },
   "outputs": [],
   "source": [
    "# Drop target variable from training and test data again \n",
    "train_X.drop('Churn', axis = 1, inplace = True)\n",
    "test_X.drop('Churn', axis = 1, inplace = True)"
   ]
  },
  {
   "cell_type": "markdown",
   "metadata": {
    "colab_type": "text",
    "id": "XhtT-Dvu6q5p"
   },
   "source": [
    "---\n",
    "<center><h1> Modeling </center>\n",
    "\n",
    "---"
   ]
  },
  {
   "cell_type": "markdown",
   "metadata": {
    "colab_type": "text",
    "id": "ISvRUbPh0iyC"
   },
   "source": [
    "## **Modeling**\n",
    "\n",
    "Most machine learning models for classification aim at creating a decision boundary between data points to generate predictions.\n",
    "<br>\n",
    "\n",
    "\n",
    "\n",
    "#### **Using K-Nearest Neighbors to Generate Predictions**\n",
    "\n",
    "The K-Nearest Neighbor tries to find the label of unseen data by choosing the label of the `K` closest points to it. Using our cancerous/benign tumour example, K-Nearest Neighbor would behave like this:\n",
    "\n",
    "\n",
    "<br>\n",
    "\n",
    "\n",
    "Just like almost all algorithms on `sklearn` - the `KNeighborsClassifier()` needs to be instantiated and follows the `.fit()` $\\rightarrow$ `.predict()` paradigm as such:\n",
    "\n",
    "```\n",
    "# Import algorithm\n",
    "from sklearn.neighbors import KNeighborsClassifier\n",
    "\n",
    "# Instantiate it\n",
    "knn = KNeighborsClassifier(n_neighbors = k)\n",
    "\n",
    "# Fit on training data\n",
    "knn.fit(train_X, train_Y)\n",
    "\n",
    "# Create predictions\n",
    "predictions = knn.predict(test_X)\n",
    "```"
   ]
  },
  {
   "cell_type": "code",
   "execution_count": 45,
   "metadata": {
    "colab": {
     "base_uri": "https://localhost:8080/",
     "height": 51
    },
    "colab_type": "code",
    "id": "5wpNKPQbLERL",
    "outputId": "5f3db86d-96b7-4ade-cc07-4a8652973b11"
   },
   "outputs": [
    {
     "data": {
      "text/plain": [
       "KNeighborsClassifier(algorithm='auto', leaf_size=30, metric='minkowski',\n",
       "                     metric_params=None, n_jobs=None, n_neighbors=6, p=2,\n",
       "                     weights='uniform')"
      ]
     },
     "execution_count": 45,
     "metadata": {},
     "output_type": "execute_result"
    },
    {
     "name": "stdout",
     "output_type": "stream",
     "text": [
      "Test accuracy: 0.7604\n",
      "Train accuracy: 0.8294\n"
     ]
    }
   ],
   "source": [
    "# Import K-Nearest Neighbor Classifier and accuracy_score\n",
    "from sklearn.neighbors import KNeighborsClassifier \n",
    "from sklearn.metrics import accuracy_score\n",
    "\n",
    "# Instantiate K Nearest Neighbors with 6 neighbors\n",
    "knn = KNeighborsClassifier(n_neighbors = 6)\n",
    "\n",
    "# Fit on training data\n",
    "knn.fit(train_X, train_Y)\n",
    "\n",
    "# Create Predictions\n",
    "pred_test_Y = knn.predict(test_X)\n",
    "pred_train_Y = knn.predict(train_X)\n",
    "\n",
    "# Calculate accuracy score on testing data\n",
    "test_accuracy = accuracy_score(test_Y, pred_test_Y)\n",
    "train_accuracy = accuracy_score(train_Y, pred_train_Y)\n",
    "\n",
    "# Print test accuracy score rounded to 4 decimals\n",
    "print('Test accuracy:', round(test_accuracy, 4))\n",
    "print('Train accuracy:', round(train_accuracy, 4))"
   ]
  },
  {
   "cell_type": "markdown",
   "metadata": {
    "colab_type": "text",
    "id": "rqT_B6F3Vyjd"
   },
   "source": [
    "#### **Using Decision Trees and Random Forests to Generate Predictions**\n",
    "\n",
    "A **decision tree** is a recursive algorithm that sequentially asks if-else questions about the data using a set of cutoff points designed to maximize the purity (homogeneity) of the resulting data points. \n",
    "\n",
    "Taking the tumour example, this would mean asking a series of questions about tumour height and width to determine whether a tumour is cancerous or not. Splits are made so that the resulting data points are as homogeneous as possible to predict the class on unseen data.\n",
    "\n",
    "\n",
    "<br>\n",
    "\n",
    "Just like `KNeighborsClassifier()` - the `DecisionTreeClassifier()` also uses the `.fit()` $\\rightarrow$ `.predict()` paradigm.\n",
    "\n",
    "A **Random Forest** pools the predictions of many decision trees each fit on a random number of features and samples from training data and returns the most common class for each sample of test data.\n",
    "\n",
    "\n",
    "It can be used using the `RandomForestClassifier()` object - and also fits the `.fit()` $\\rightarrow$ `.predict()` paradigm."
   ]
  },
  {
   "cell_type": "code",
   "execution_count": 46,
   "metadata": {
    "colab": {
     "base_uri": "https://localhost:8080/",
     "height": 102
    },
    "colab_type": "code",
    "id": "vNQ5NpwR0iyF",
    "outputId": "96f086c2-7682-498e-bf5a-2f82a65899e6"
   },
   "outputs": [
    {
     "data": {
      "text/plain": [
       "DecisionTreeClassifier(ccp_alpha=0.0, class_weight=None, criterion='gini',\n",
       "                       max_depth=None, max_features=None, max_leaf_nodes=None,\n",
       "                       min_impurity_decrease=0.0, min_impurity_split=None,\n",
       "                       min_samples_leaf=1, min_samples_split=2,\n",
       "                       min_weight_fraction_leaf=0.0, presort='deprecated',\n",
       "                       random_state=123, splitter='best')"
      ]
     },
     "execution_count": 46,
     "metadata": {},
     "output_type": "execute_result"
    },
    {
     "data": {
      "text/plain": [
       "RandomForestClassifier(bootstrap=True, ccp_alpha=0.0, class_weight=None,\n",
       "                       criterion='gini', max_depth=None, max_features='auto',\n",
       "                       max_leaf_nodes=None, max_samples=None,\n",
       "                       min_impurity_decrease=0.0, min_impurity_split=None,\n",
       "                       min_samples_leaf=1, min_samples_split=2,\n",
       "                       min_weight_fraction_leaf=0.0, n_estimators=100,\n",
       "                       n_jobs=None, oob_score=False, random_state=123,\n",
       "                       verbose=0, warm_start=False)"
      ]
     },
     "execution_count": 46,
     "metadata": {},
     "output_type": "execute_result"
    },
    {
     "name": "stdout",
     "output_type": "stream",
     "text": [
      "Tree test accuracy: 0.7303\n",
      "Tree train accuracy: 1.0\n",
      "\n",
      "Forest test accuracy: 0.7842\n",
      "Forest train accuracy: 0.9998\n"
     ]
    }
   ],
   "source": [
    "# Import relevant packages\n",
    "from sklearn.tree import DecisionTreeClassifier\n",
    "from sklearn.ensemble import RandomForestClassifier\n",
    "from sklearn.metrics import accuracy_score\n",
    "\n",
    "# Instantiate decision tree and random forest classifiers\n",
    "dec_tree = DecisionTreeClassifier(random_state = 123)\n",
    "rand_forest = RandomForestClassifier(random_state = 123)\n",
    "\n",
    "# Fit decision tree and random forest on data\n",
    "dec_tree.fit(train_X, train_Y)\n",
    "rand_forest.fit(train_X, train_Y)\n",
    "\n",
    "# Create Predictions on test and train data using decision tree\n",
    "pred_test_Y_tree = dec_tree.predict(test_X)\n",
    "pred_train_Y_tree = dec_tree.predict(train_X)\n",
    "\n",
    "# Create Predictions on test and train data using random forest\n",
    "pred_test_Y_forest = rand_forest.predict(test_X)\n",
    "pred_train_Y_forest = rand_forest.predict(train_X)\n",
    "\n",
    "# Calculate test and train accuracy score on decision tree\n",
    "test_accuracy_tree = accuracy_score(test_Y, pred_test_Y_tree)\n",
    "train_accuracy_tree = accuracy_score(train_Y, pred_train_Y_tree)\n",
    "\n",
    "# Calculate test and train accuracy score on random forest\n",
    "test_accuracy_forest = accuracy_score(test_Y, pred_test_Y_forest)\n",
    "train_accuracy_forest = accuracy_score(train_Y, pred_train_Y_forest)\n",
    "\n",
    "# Print test accuracy score rounded to 4 decimals\n",
    "print('Tree test accuracy:', round(test_accuracy_tree, 4))\n",
    "print('Tree train accuracy:', round(train_accuracy_tree, 4))\n",
    "\n",
    "# Print test accuracy score rounded to 4 decimals\n",
    "print('\\nForest test accuracy:', round(test_accuracy_forest, 4))\n",
    "print('Forest train accuracy:', round(train_accuracy_forest, 4))"
   ]
  },
  {
   "cell_type": "markdown",
   "metadata": {
    "colab_type": "text",
    "id": "ge_tgMvtmKFm"
   },
   "source": [
    "#### **Overfitting, the bias-variance tradeoff and cross validation**\n",
    "\n",
    "Checking out the results of the decision tree and random forest classifiers, the training accuracy far exceeds the testing accuracy score, suggesting that the model is fitting really well (a bit too well) on the training data and does not generalize to unseen data. \n",
    "\n",
    "This is called overfitting and can be illustrated by highly complex decision boundary while fitting the model on the training data.\n",
    "\n",
    "\n",
    "\n",
    "**Model Variance**\n",
    "\n",
    "A model is said to have high variance if it creates an elaborate decision boundary around data points for different sets of training data. \n",
    "\n",
    "<ins> It can be diagnosed if **training accuracy** >>> **test accuracy**. </ins>\n",
    "\n",
    "\n",
    "**Model Bias**\n",
    "\n",
    "A model underfits the data, or is said to have high bias if the decision boundary does not fit the data - and generates non-accurate predictions on both training and testing data.\n",
    "\n",
    "<ins> It can be diagnosed if both **training accuracy** and **test accuracy** are low. </ins>\n",
    "\n",
    "\n",
    "**Cross Validation**\n",
    "\n",
    "Cross validation is considered best practice for assessing a model's performance. It essentially divides the training data `n` times into a training sets and a hold out set - iteratively fitting the model on the training set and validating on the hold out set storing each validation result separately. Finally, the `n` results are pooled to get a mean validation score. \n",
    "\n",
    "\n",
    "Cross-validation can be done by using the `cross_val_score()` in `sklearn` - it takes in as arguments the following:\n",
    "\n",
    "- The instantiated model in question.\n",
    "- The training data and label.\n",
    "- `cv`: The number of cross validation folds.\n"
   ]
  },
  {
   "cell_type": "code",
   "execution_count": 47,
   "metadata": {
    "colab": {
     "base_uri": "https://localhost:8080/",
     "height": 119
    },
    "colab_type": "code",
    "id": "rBOD-0Rb0iyH",
    "outputId": "f8f7d2bd-36ed-4dc4-dc6b-19b9a291d0a0"
   },
   "outputs": [
    {
     "data": {
      "text/plain": [
       "DecisionTreeClassifier(ccp_alpha=0.0, class_weight=None, criterion='gini',\n",
       "                       max_depth=None, max_features=None, max_leaf_nodes=None,\n",
       "                       min_impurity_decrease=0.0, min_impurity_split=None,\n",
       "                       min_samples_leaf=1, min_samples_split=2,\n",
       "                       min_weight_fraction_leaf=0.0, presort='deprecated',\n",
       "                       random_state=123, splitter='best')"
      ]
     },
     "execution_count": 47,
     "metadata": {},
     "output_type": "execute_result"
    },
    {
     "name": "stdout",
     "output_type": "stream",
     "text": [
      "[0.7221172  0.70510397 0.78030303 0.7405303  0.71590909 0.70454545\n",
      " 0.75       0.74431818 0.72159091 0.73484848]\n",
      "\n",
      "Mean cross-val score: 0.7319\n",
      "\n",
      "Test score: 0.7303\n"
     ]
    }
   ],
   "source": [
    "# Import relevant modules \n",
    "from sklearn.tree import DecisionTreeClassifier\n",
    "from sklearn.model_selection import cross_val_score\n",
    "\n",
    "# Instantiate decision tree\n",
    "dec_tree = DecisionTreeClassifier(random_state = 123)\n",
    "\n",
    "# Get cross validation scores\n",
    "cv_scores = cross_val_score(dec_tree, train_X, train_Y, cv = 10)\n",
    "\n",
    "# Fit on training data and get predictions\n",
    "dec_tree.fit(train_X, train_Y)\n",
    "y_pred = dec_tree.predict(test_X)\n",
    "\n",
    "# Fit on data\n",
    "print(cv_scores)\n",
    "print(\"\\nMean cross-val score:\", round(np.mean(cv_scores), 4))\n",
    "print(\"\\nTest score:\", round(accuracy_score(y_pred, test_Y), 4))"
   ]
  },
  {
   "cell_type": "markdown",
   "metadata": {
    "colab_type": "text",
    "id": "xL13w1Lb63rE"
   },
   "source": [
    "---\n",
    "<center><h1> Hyperparameter Tuning</center>\n",
    "\n",
    "---"
   ]
  },
  {
   "cell_type": "markdown",
   "metadata": {
    "colab_type": "text",
    "id": "Dd7VDPtxtNFt"
   },
   "source": [
    "#### **Hyperparameter Tuning and grid-search**\n",
    "\n",
    "Almost all algorithms have hyperparameters that can be tuned to fine-tune their performance, reduce over-fitting and better capture the patterns in the dataset. Having a good understanding and intuition of how algorithms work is essential to fully utilize hyperparameter tuning for the purposes of improving model performance and testing different modeling strategies. Here we will tune the `max_depth` and `max_features` hyperparameters of the decision tree classifier to improve its performance."
   ]
  },
  {
   "cell_type": "code",
   "execution_count": 48,
   "metadata": {
    "colab": {
     "base_uri": "https://localhost:8080/",
     "height": 255
    },
    "colab_type": "code",
    "id": "6CkRhqTi0iyT",
    "outputId": "249123b7-d51e-4593-aea0-6644295808c5"
   },
   "outputs": [
    {
     "data": {
      "text/plain": [
       "{'ccp_alpha': 0.0,\n",
       " 'class_weight': None,\n",
       " 'criterion': 'gini',\n",
       " 'max_depth': None,\n",
       " 'max_features': None,\n",
       " 'max_leaf_nodes': None,\n",
       " 'min_impurity_decrease': 0.0,\n",
       " 'min_impurity_split': None,\n",
       " 'min_samples_leaf': 1,\n",
       " 'min_samples_split': 2,\n",
       " 'min_weight_fraction_leaf': 0.0,\n",
       " 'presort': 'deprecated',\n",
       " 'random_state': None,\n",
       " 'splitter': 'best'}"
      ]
     },
     "execution_count": 48,
     "metadata": {},
     "output_type": "execute_result"
    }
   ],
   "source": [
    "# Get all parameters of a decision tree\n",
    "dec_tree = DecisionTreeClassifier()\n",
    "dec_tree.get_params()"
   ]
  },
  {
   "cell_type": "markdown",
   "metadata": {
    "colab_type": "text",
    "id": "N3FqjSV0t-CG"
   },
   "source": [
    "**Tuning maximum depth**\n",
    "\n",
    "From the `sklearn` [documentation](https://scikit-learn.org/stable/modules/generated/sklearn.tree.DecisionTreeClassifier.html):\n",
    "\n",
    "> The maximum depth of the tree. If None, then nodes are expanded until all leaves are pure or until all leaves contain less than 2 samples.\n",
    "\n",
    "\n",
    "The higher this number is, the more likely the model is to overfit. Let's try a `max_depth` of 4."
   ]
  },
  {
   "cell_type": "code",
   "execution_count": 49,
   "metadata": {
    "colab": {
     "base_uri": "https://localhost:8080/",
     "height": 119
    },
    "colab_type": "code",
    "id": "-Uv9WCD40iyV",
    "outputId": "125a534b-d655-429f-ff66-50b6203a5b2a"
   },
   "outputs": [
    {
     "data": {
      "text/plain": [
       "DecisionTreeClassifier(ccp_alpha=0.0, class_weight=None, criterion='gini',\n",
       "                       max_depth=4, max_features=None, max_leaf_nodes=None,\n",
       "                       min_impurity_decrease=0.0, min_impurity_split=None,\n",
       "                       min_samples_leaf=1, min_samples_split=2,\n",
       "                       min_weight_fraction_leaf=0.0, presort='deprecated',\n",
       "                       random_state=123, splitter='best')"
      ]
     },
     "execution_count": 49,
     "metadata": {},
     "output_type": "execute_result"
    },
    {
     "name": "stdout",
     "output_type": "stream",
     "text": [
      "[0.80151229 0.79584121 0.80681818 0.79545455 0.78787879 0.78030303\n",
      " 0.8030303  0.79356061 0.75757576 0.80681818]\n",
      "\n",
      "Mean cross-val score: 0.7929\n",
      "\n",
      "Test score: 0.7729\n"
     ]
    }
   ],
   "source": [
    "# Import relevant modules\n",
    "from sklearn.tree import DecisionTreeClassifier \n",
    "from sklearn.model_selection import cross_val_score\n",
    "\n",
    "# Instantiate a decision tree with max_depth = 4\n",
    "dec_tree = DecisionTreeClassifier(random_state = 123, max_depth = 4)\n",
    "\n",
    "# Get cross validation scores\n",
    "cv_scores = cross_val_score(dec_tree, train_X, train_Y, cv = 10)\n",
    "\n",
    "# Fit on training data and get predictions\n",
    "dec_tree.fit(train_X, train_Y)\n",
    "y_pred = dec_tree.predict(test_X)\n",
    "\n",
    "# Print accuracy scores\n",
    "print(cv_scores)\n",
    "print(\"\\nMean cross-val score:\", round(np.mean(cv_scores), 4))\n",
    "print(\"\\nTest score:\", round(accuracy_score(y_pred, test_Y), 4))"
   ]
  },
  {
   "cell_type": "markdown",
   "metadata": {
    "colab_type": "text",
    "id": "mUM2yP3-tyNR"
   },
   "source": [
    "**Tuning maximum features**\n",
    "\n",
    "From the `sklearn` [documentation](https://scikit-learn.org/stable/modules/generated/sklearn.tree.DecisionTreeClassifier.html):\n",
    "\n",
    "> The number of features to consider when looking for the best split.\n",
    "\n",
    "It could take many different values from:\n",
    "- `\"sqrt\"` so that `max_num_features = sqrt(num_features)`.\n",
    "- A float between 0 and 1 so that it is the percentage of features considered.\n",
    "- Or `int` - considering the exact number of features. "
   ]
  },
  {
   "cell_type": "code",
   "execution_count": 50,
   "metadata": {
    "colab": {
     "base_uri": "https://localhost:8080/",
     "height": 119
    },
    "colab_type": "code",
    "id": "AgLYoybR0iye",
    "outputId": "e01b73b8-8dd3-44a6-bf8c-9d049e6fbb05"
   },
   "outputs": [
    {
     "data": {
      "text/plain": [
       "DecisionTreeClassifier(ccp_alpha=0.0, class_weight=None, criterion='gini',\n",
       "                       max_depth=4, max_features=20, max_leaf_nodes=None,\n",
       "                       min_impurity_decrease=0.0, min_impurity_split=None,\n",
       "                       min_samples_leaf=1, min_samples_split=2,\n",
       "                       min_weight_fraction_leaf=0.0, presort='deprecated',\n",
       "                       random_state=123, splitter='best')"
      ]
     },
     "execution_count": 50,
     "metadata": {},
     "output_type": "execute_result"
    },
    {
     "name": "stdout",
     "output_type": "stream",
     "text": [
      "[0.80151229 0.79773157 0.80681818 0.78409091 0.78977273 0.78030303\n",
      " 0.8030303  0.79734848 0.76136364 0.80681818]\n",
      "\n",
      "Mean cross-val score: 0.7929\n",
      "\n",
      "Test score: 0.7729\n"
     ]
    }
   ],
   "source": [
    "# Import relevant modules\n",
    "from sklearn.tree import DecisionTreeClassifier \n",
    "from sklearn.model_selection import cross_val_score\n",
    "\n",
    "# Instantiate a decision tree with max_depth = 4 and max_features = 25\n",
    "dec_tree = DecisionTreeClassifier(random_state = 123, max_depth = 4, max_features = 20)\n",
    "\n",
    "# Get cross validation scores\n",
    "cv_scores = cross_val_score(dec_tree, train_X, train_Y, cv = 10)\n",
    "\n",
    "# Fit on training data and get predictions\n",
    "dec_tree.fit(train_X, train_Y)\n",
    "y_pred = dec_tree.predict(test_X)\n",
    "\n",
    "# Print accuracy scores\n",
    "print(cv_scores)\n",
    "print(\"\\nMean cross-val score:\", round(np.mean(cv_scores), 4))\n",
    "print(\"\\nTest score:\", round(accuracy_score(y_pred, test_Y), 4))"
   ]
  },
  {
   "cell_type": "markdown",
   "metadata": {
    "colab_type": "text",
    "id": "RHvodiPqvQqy"
   },
   "source": [
    "**Using grid-search**\n",
    "\n",
    "Grid-search is a hyperparameter tuning algorithm that sequentially goes through every possible combination of hyperparameter combination it is fed in space. For example, for hyperparameters `parameter 1` and `parameter 2` - it would mean testing out all possible combinations of their values:\n",
    "\n",
    "\n",
    "Grid-search can be done using the `GridSearchCV()` function - it takes in as arguments:\n",
    "\n",
    "- The model being used.\n",
    "- The possible parameters to test - inputted as a dictionary. \n",
    "- `cv`: The number of cross-validation folds.\n",
    "- `verbose`: More detailed output if `2`.\n",
    "\n",
    "**Note**: Grid-search can be very time-consuming if you are testing many different combinations using a complex learning model. [`RandomizedSearchCV()`](https://scikit-learn.org/stable/modules/generated/sklearn.model_selection.RandomizedSearchCV.html) could be a better alternative.\n",
    "\n",
    "\n"
   ]
  },
  {
   "cell_type": "code",
   "execution_count": 51,
   "metadata": {
    "colab": {
     "base_uri": "https://localhost:8080/",
     "height": 1000
    },
    "colab_type": "code",
    "id": "0cVmSKi50iyg",
    "outputId": "ad49e7ba-e34d-4446-9836-6f5f4202dcff"
   },
   "outputs": [
    {
     "name": "stdout",
     "output_type": "stream",
     "text": [
      "Fitting 10 folds for each of 12 candidates, totalling 120 fits\n",
      "[CV] max_depth=6, max_features=20 ....................................\n",
      "[CV] ..................... max_depth=6, max_features=20, total=   0.0s\n",
      "[CV] max_depth=6, max_features=20 ....................................\n",
      "[CV] ..................... max_depth=6, max_features=20, total=   0.0s\n",
      "[CV] max_depth=6, max_features=20 ....................................\n",
      "[CV] ..................... max_depth=6, max_features=20, total=   0.0s\n",
      "[CV] max_depth=6, max_features=20 ....................................\n",
      "[CV] ..................... max_depth=6, max_features=20, total=   0.0s\n",
      "[CV] max_depth=6, max_features=20 ....................................\n",
      "[CV] ..................... max_depth=6, max_features=20, total=   0.0s\n",
      "[CV] max_depth=6, max_features=20 ....................................\n",
      "[CV] ..................... max_depth=6, max_features=20, total=   0.0s\n",
      "[CV] max_depth=6, max_features=20 ....................................\n",
      "[CV] ..................... max_depth=6, max_features=20, total=   0.0s\n",
      "[CV] max_depth=6, max_features=20 ....................................\n",
      "[CV] ..................... max_depth=6, max_features=20, total=   0.0s\n",
      "[CV] max_depth=6, max_features=20 ....................................\n",
      "[CV] ..................... max_depth=6, max_features=20, total=   0.0s\n",
      "[CV] max_depth=6, max_features=20 ....................................\n",
      "[CV] ..................... max_depth=6, max_features=20, total=   0.0s\n",
      "[CV] max_depth=6, max_features=25 ....................................\n",
      "[CV] ..................... max_depth=6, max_features=25, total=   0.0s\n",
      "[CV] max_depth=6, max_features=25 ....................................\n",
      "[CV] ..................... max_depth=6, max_features=25, total=   0.0s\n",
      "[CV] max_depth=6, max_features=25 ....................................\n",
      "[CV] ..................... max_depth=6, max_features=25, total=   0.0s\n",
      "[CV] max_depth=6, max_features=25 ....................................\n",
      "[CV] ..................... max_depth=6, max_features=25, total=   0.0s"
     ]
    },
    {
     "name": "stderr",
     "output_type": "stream",
     "text": [
      "[Parallel(n_jobs=1)]: Using backend SequentialBackend with 1 concurrent workers.\n",
      "[Parallel(n_jobs=1)]: Done   1 out of   1 | elapsed:    0.0s remaining:    0.0s\n"
     ]
    },
    {
     "name": "stdout",
     "output_type": "stream",
     "text": [
      "\n",
      "[CV] max_depth=6, max_features=25 ....................................\n",
      "[CV] ..................... max_depth=6, max_features=25, total=   0.0s\n",
      "[CV] max_depth=6, max_features=25 ....................................\n",
      "[CV] ..................... max_depth=6, max_features=25, total=   0.0s\n",
      "[CV] max_depth=6, max_features=25 ....................................\n",
      "[CV] ..................... max_depth=6, max_features=25, total=   0.0s\n",
      "[CV] max_depth=6, max_features=25 ....................................\n",
      "[CV] ..................... max_depth=6, max_features=25, total=   0.0s\n",
      "[CV] max_depth=6, max_features=25 ....................................\n",
      "[CV] ..................... max_depth=6, max_features=25, total=   0.0s\n",
      "[CV] max_depth=6, max_features=25 ....................................\n",
      "[CV] ..................... max_depth=6, max_features=25, total=   0.0s\n",
      "[CV] max_depth=6, max_features=30 ....................................\n",
      "[CV] ..................... max_depth=6, max_features=30, total=   0.0s\n",
      "[CV] max_depth=6, max_features=30 ....................................\n",
      "[CV] ..................... max_depth=6, max_features=30, total=   0.0s\n",
      "[CV] max_depth=6, max_features=30 ....................................\n",
      "[CV] ..................... max_depth=6, max_features=30, total=   0.0s\n",
      "[CV] max_depth=6, max_features=30 ....................................\n",
      "[CV] ..................... max_depth=6, max_features=30, total=   0.0s\n",
      "[CV] max_depth=6, max_features=30 ....................................\n",
      "[CV] ..................... max_depth=6, max_features=30, total=   0.0s\n",
      "[CV] max_depth=6, max_features=30 ....................................\n",
      "[CV] ..................... max_depth=6, max_features=30, total=   0.0s\n",
      "[CV] max_depth=6, max_features=30 ....................................\n",
      "[CV] ..................... max_depth=6, max_features=30, total=   0.0s\n",
      "[CV] max_depth=6, max_features=30 ....................................\n",
      "[CV] ..................... max_depth=6, max_features=30, total=   0.0s\n",
      "[CV] max_depth=6, max_features=30 ....................................\n",
      "[CV] ..................... max_depth=6, max_features=30, total=   0.0s\n",
      "[CV] max_depth=6, max_features=30 ....................................\n",
      "[CV] ..................... max_depth=6, max_features=30, total=   0.0s\n",
      "[CV] max_depth=8, max_features=20 ....................................\n",
      "[CV] ..................... max_depth=8, max_features=20, total=   0.0s\n",
      "[CV] max_depth=8, max_features=20 ....................................\n",
      "[CV] ..................... max_depth=8, max_features=20, total=   0.0s\n",
      "[CV] max_depth=8, max_features=20 ....................................\n",
      "[CV] ..................... max_depth=8, max_features=20, total=   0.0s\n",
      "[CV] max_depth=8, max_features=20 ....................................\n",
      "[CV] ..................... max_depth=8, max_features=20, total=   0.0s\n",
      "[CV] max_depth=8, max_features=20 ....................................\n",
      "[CV] ..................... max_depth=8, max_features=20, total=   0.0s\n",
      "[CV] max_depth=8, max_features=20 ....................................\n",
      "[CV] ..................... max_depth=8, max_features=20, total=   0.0s\n",
      "[CV] max_depth=8, max_features=20 ....................................\n",
      "[CV] ..................... max_depth=8, max_features=20, total=   0.0s\n",
      "[CV] max_depth=8, max_features=20 ....................................\n",
      "[CV] ..................... max_depth=8, max_features=20, total=   0.0s\n",
      "[CV] max_depth=8, max_features=20 ....................................\n",
      "[CV] ..................... max_depth=8, max_features=20, total=   0.0s\n",
      "[CV] max_depth=8, max_features=20 ....................................\n",
      "[CV] ..................... max_depth=8, max_features=20, total=   0.0s\n",
      "[CV] max_depth=8, max_features=25 ....................................\n",
      "[CV] ..................... max_depth=8, max_features=25, total=   0.0s\n",
      "[CV] max_depth=8, max_features=25 ....................................\n",
      "[CV] ..................... max_depth=8, max_features=25, total=   0.0s\n",
      "[CV] max_depth=8, max_features=25 ....................................\n",
      "[CV] ..................... max_depth=8, max_features=25, total=   0.0s\n",
      "[CV] max_depth=8, max_features=25 ....................................\n",
      "[CV] ..................... max_depth=8, max_features=25, total=   0.0s\n",
      "[CV] max_depth=8, max_features=25 ....................................\n",
      "[CV] ..................... max_depth=8, max_features=25, total=   0.0s\n",
      "[CV] max_depth=8, max_features=25 ....................................\n",
      "[CV] ..................... max_depth=8, max_features=25, total=   0.0s\n",
      "[CV] max_depth=8, max_features=25 ....................................\n",
      "[CV] ..................... max_depth=8, max_features=25, total=   0.0s\n",
      "[CV] max_depth=8, max_features=25 ....................................\n",
      "[CV] ..................... max_depth=8, max_features=25, total=   0.0s\n",
      "[CV] max_depth=8, max_features=25 ....................................\n",
      "[CV] ..................... max_depth=8, max_features=25, total=   0.0s\n",
      "[CV] max_depth=8, max_features=25 ....................................\n",
      "[CV] ..................... max_depth=8, max_features=25, total=   0.0s\n",
      "[CV] max_depth=8, max_features=30 ....................................\n",
      "[CV] ..................... max_depth=8, max_features=30, total=   0.0s\n",
      "[CV] max_depth=8, max_features=30 ....................................\n",
      "[CV] ..................... max_depth=8, max_features=30, total=   0.0s\n",
      "[CV] max_depth=8, max_features=30 ....................................\n",
      "[CV] ..................... max_depth=8, max_features=30, total=   0.0s\n",
      "[CV] max_depth=8, max_features=30 ....................................\n",
      "[CV] ..................... max_depth=8, max_features=30, total=   0.0s\n",
      "[CV] max_depth=8, max_features=30 ....................................\n",
      "[CV] ..................... max_depth=8, max_features=30, total=   0.0s\n",
      "[CV] max_depth=8, max_features=30 ....................................\n",
      "[CV] ..................... max_depth=8, max_features=30, total=   0.0s\n",
      "[CV] max_depth=8, max_features=30 ....................................\n",
      "[CV] ..................... max_depth=8, max_features=30, total=   0.0s\n",
      "[CV] max_depth=8, max_features=30 ....................................\n",
      "[CV] ..................... max_depth=8, max_features=30, total=   0.0s\n",
      "[CV] max_depth=8, max_features=30 ....................................\n",
      "[CV] ..................... max_depth=8, max_features=30, total=   0.0s\n",
      "[CV] max_depth=8, max_features=30 ....................................\n",
      "[CV] ..................... max_depth=8, max_features=30, total=   0.0s\n",
      "[CV] max_depth=10, max_features=20 ...................................\n",
      "[CV] .................... max_depth=10, max_features=20, total=   0.0s\n",
      "[CV] max_depth=10, max_features=20 ...................................\n",
      "[CV] .................... max_depth=10, max_features=20, total=   0.0s\n",
      "[CV] max_depth=10, max_features=20 ...................................\n",
      "[CV] .................... max_depth=10, max_features=20, total=   0.0s\n",
      "[CV] max_depth=10, max_features=20 ...................................\n",
      "[CV] .................... max_depth=10, max_features=20, total=   0.0s\n",
      "[CV] max_depth=10, max_features=20 ...................................\n",
      "[CV] .................... max_depth=10, max_features=20, total=   0.0s\n",
      "[CV] max_depth=10, max_features=20 ...................................\n",
      "[CV] .................... max_depth=10, max_features=20, total=   0.0s\n",
      "[CV] max_depth=10, max_features=20 ...................................\n",
      "[CV] .................... max_depth=10, max_features=20, total=   0.0s\n",
      "[CV] max_depth=10, max_features=20 ...................................\n",
      "[CV] .................... max_depth=10, max_features=20, total=   0.0s\n",
      "[CV] max_depth=10, max_features=20 ...................................\n",
      "[CV] .................... max_depth=10, max_features=20, total=   0.0s\n",
      "[CV] max_depth=10, max_features=20 ...................................\n",
      "[CV] .................... max_depth=10, max_features=20, total=   0.0s\n",
      "[CV] max_depth=10, max_features=25 ...................................\n",
      "[CV] .................... max_depth=10, max_features=25, total=   0.0s\n",
      "[CV] max_depth=10, max_features=25 ...................................\n",
      "[CV] .................... max_depth=10, max_features=25, total=   0.0s\n",
      "[CV] max_depth=10, max_features=25 ...................................\n",
      "[CV] .................... max_depth=10, max_features=25, total=   0.0s\n",
      "[CV] max_depth=10, max_features=25 ...................................\n",
      "[CV] .................... max_depth=10, max_features=25, total=   0.0s\n",
      "[CV] max_depth=10, max_features=25 ...................................\n",
      "[CV] .................... max_depth=10, max_features=25, total=   0.0s\n",
      "[CV] max_depth=10, max_features=25 ...................................\n",
      "[CV] .................... max_depth=10, max_features=25, total=   0.0s\n",
      "[CV] max_depth=10, max_features=25 ...................................\n",
      "[CV] .................... max_depth=10, max_features=25, total=   0.0s\n",
      "[CV] max_depth=10, max_features=25 ...................................\n",
      "[CV] .................... max_depth=10, max_features=25, total=   0.0s\n",
      "[CV] max_depth=10, max_features=25 ...................................\n",
      "[CV] .................... max_depth=10, max_features=25, total=   0.0s\n",
      "[CV] max_depth=10, max_features=25 ...................................\n",
      "[CV] .................... max_depth=10, max_features=25, total=   0.0s\n",
      "[CV] max_depth=10, max_features=30 ...................................\n",
      "[CV] .................... max_depth=10, max_features=30, total=   0.0s\n",
      "[CV] max_depth=10, max_features=30 ...................................\n",
      "[CV] .................... max_depth=10, max_features=30, total=   0.0s\n",
      "[CV] max_depth=10, max_features=30 ...................................\n",
      "[CV] .................... max_depth=10, max_features=30, total=   0.0s\n",
      "[CV] max_depth=10, max_features=30 ...................................\n",
      "[CV] .................... max_depth=10, max_features=30, total=   0.0s\n",
      "[CV] max_depth=10, max_features=30 ...................................\n",
      "[CV] .................... max_depth=10, max_features=30, total=   0.0s\n",
      "[CV] max_depth=10, max_features=30 ...................................\n",
      "[CV] .................... max_depth=10, max_features=30, total=   0.0s\n",
      "[CV] max_depth=10, max_features=30 ...................................\n",
      "[CV] .................... max_depth=10, max_features=30, total=   0.0s\n",
      "[CV] max_depth=10, max_features=30 ...................................\n",
      "[CV] .................... max_depth=10, max_features=30, total=   0.0s\n",
      "[CV] max_depth=10, max_features=30 ...................................\n",
      "[CV] .................... max_depth=10, max_features=30, total=   0.0s\n",
      "[CV] max_depth=10, max_features=30 ...................................\n",
      "[CV] .................... max_depth=10, max_features=30, total=   0.0s\n",
      "[CV] max_depth=12, max_features=20 ...................................\n",
      "[CV] .................... max_depth=12, max_features=20, total=   0.0s\n",
      "[CV] max_depth=12, max_features=20 ...................................\n",
      "[CV] .................... max_depth=12, max_features=20, total=   0.0s\n",
      "[CV] max_depth=12, max_features=20 ...................................\n",
      "[CV] .................... max_depth=12, max_features=20, total=   0.0s\n",
      "[CV] max_depth=12, max_features=20 ...................................\n",
      "[CV] .................... max_depth=12, max_features=20, total=   0.0s\n",
      "[CV] max_depth=12, max_features=20 ...................................\n",
      "[CV] .................... max_depth=12, max_features=20, total=   0.0s\n",
      "[CV] max_depth=12, max_features=20 ...................................\n",
      "[CV] .................... max_depth=12, max_features=20, total=   0.0s\n",
      "[CV] max_depth=12, max_features=20 ...................................\n",
      "[CV] .................... max_depth=12, max_features=20, total=   0.0s\n",
      "[CV] max_depth=12, max_features=20 ...................................\n",
      "[CV] .................... max_depth=12, max_features=20, total=   0.0s\n",
      "[CV] max_depth=12, max_features=20 ...................................\n",
      "[CV] .................... max_depth=12, max_features=20, total=   0.0s\n",
      "[CV] max_depth=12, max_features=20 ...................................\n",
      "[CV] .................... max_depth=12, max_features=20, total=   0.0s\n",
      "[CV] max_depth=12, max_features=25 ...................................\n",
      "[CV] .................... max_depth=12, max_features=25, total=   0.0s\n",
      "[CV] max_depth=12, max_features=25 ...................................\n",
      "[CV] .................... max_depth=12, max_features=25, total=   0.0s\n",
      "[CV] max_depth=12, max_features=25 ...................................\n",
      "[CV] .................... max_depth=12, max_features=25, total=   0.0s\n",
      "[CV] max_depth=12, max_features=25 ...................................\n",
      "[CV] .................... max_depth=12, max_features=25, total=   0.0s\n",
      "[CV] max_depth=12, max_features=25 ...................................\n",
      "[CV] .................... max_depth=12, max_features=25, total=   0.0s\n",
      "[CV] max_depth=12, max_features=25 ...................................\n",
      "[CV] .................... max_depth=12, max_features=25, total=   0.0s\n",
      "[CV] max_depth=12, max_features=25 ...................................\n",
      "[CV] .................... max_depth=12, max_features=25, total=   0.0s\n",
      "[CV] max_depth=12, max_features=25 ...................................\n",
      "[CV] .................... max_depth=12, max_features=25, total=   0.0s\n",
      "[CV] max_depth=12, max_features=25 ...................................\n",
      "[CV] .................... max_depth=12, max_features=25, total=   0.0s\n",
      "[CV] max_depth=12, max_features=25 ...................................\n",
      "[CV] .................... max_depth=12, max_features=25, total=   0.0s\n",
      "[CV] max_depth=12, max_features=30 ...................................\n",
      "[CV] .................... max_depth=12, max_features=30, total=   0.0s\n",
      "[CV] max_depth=12, max_features=30 ...................................\n",
      "[CV] .................... max_depth=12, max_features=30, total=   0.0s\n",
      "[CV] max_depth=12, max_features=30 ...................................\n",
      "[CV] .................... max_depth=12, max_features=30, total=   0.0s\n",
      "[CV] max_depth=12, max_features=30 ...................................\n",
      "[CV] .................... max_depth=12, max_features=30, total=   0.0s\n",
      "[CV] max_depth=12, max_features=30 ...................................\n",
      "[CV] .................... max_depth=12, max_features=30, total=   0.0s\n",
      "[CV] max_depth=12, max_features=30 ...................................\n",
      "[CV] .................... max_depth=12, max_features=30, total=   0.0s\n",
      "[CV] max_depth=12, max_features=30 ...................................\n",
      "[CV] .................... max_depth=12, max_features=30, total=   0.0s\n",
      "[CV] max_depth=12, max_features=30 ...................................\n",
      "[CV] .................... max_depth=12, max_features=30, total=   0.0s\n",
      "[CV] max_depth=12, max_features=30 ...................................\n",
      "[CV] .................... max_depth=12, max_features=30, total=   0.0s\n",
      "[CV] max_depth=12, max_features=30 ...................................\n",
      "[CV] .................... max_depth=12, max_features=30, total=   0.0s\n"
     ]
    },
    {
     "name": "stderr",
     "output_type": "stream",
     "text": [
      "[Parallel(n_jobs=1)]: Done 120 out of 120 | elapsed:    2.1s finished\n"
     ]
    },
    {
     "data": {
      "text/plain": [
       "GridSearchCV(cv=10, error_score=nan,\n",
       "             estimator=DecisionTreeClassifier(ccp_alpha=0.0, class_weight=None,\n",
       "                                              criterion='gini', max_depth=None,\n",
       "                                              max_features=None,\n",
       "                                              max_leaf_nodes=None,\n",
       "                                              min_impurity_decrease=0.0,\n",
       "                                              min_impurity_split=None,\n",
       "                                              min_samples_leaf=1,\n",
       "                                              min_samples_split=2,\n",
       "                                              min_weight_fraction_leaf=0.0,\n",
       "                                              presort='deprecated',\n",
       "                                              random_state=123,\n",
       "                                              splitter='best'),\n",
       "             iid='deprecated', n_jobs=None,\n",
       "             param_grid={'max_depth': [6, 8, 10, 12],\n",
       "                         'max_features': [20, 25, 30]},\n",
       "             pre_dispatch='2*n_jobs', refit=True, return_train_score=False,\n",
       "             scoring=None, verbose=2)"
      ]
     },
     "execution_count": 51,
     "metadata": {},
     "output_type": "execute_result"
    }
   ],
   "source": [
    "# Import GridSearchCV\n",
    "from sklearn.model_selection import GridSearchCV\n",
    "\n",
    "# Define parameter grid\n",
    "params = {'max_depth': [6,8,10,12],\n",
    "          'max_features': [20,25,30]}\n",
    "\n",
    "# Instantiate a decision tree classifier \n",
    "dec_tree = DecisionTreeClassifier(random_state = 123)\n",
    "\n",
    "# Instantiate a GridSearchCV classifier with 10 fold cross-validation\n",
    "clf = GridSearchCV(dec_tree, params, cv = 10, verbose = 2)\n",
    "\n",
    "# Fit clf on training data\n",
    "clf.fit(train_X, train_Y)"
   ]
  },
  {
   "cell_type": "code",
   "execution_count": 52,
   "metadata": {
    "colab": {
     "base_uri": "https://localhost:8080/",
     "height": 68
    },
    "colab_type": "code",
    "id": "vZMU6Utn0iyk",
    "outputId": "dd54472a-8627-401b-f21f-7ec06feafec9"
   },
   "outputs": [
    {
     "name": "stdout",
     "output_type": "stream",
     "text": [
      "Best parameters:  {'max_depth': 6, 'max_features': 30}\n",
      "\n",
      " 0.7774\n"
     ]
    }
   ],
   "source": [
    "# Generate predictions and calculate accuracy error\n",
    "y_pred = clf.predict(test_X)\n",
    "print('Best parameters: ', clf.best_params_)\n",
    "print('\\n',round(accuracy_score(y_pred, test_Y), 4))"
   ]
  },
  {
   "cell_type": "markdown",
   "metadata": {
    "colab_type": "text",
    "id": "B_sHeMZRSC6p"
   },
   "source": [
    "\n",
    "<center><h1>Assignment - Week 2</h1> </center>\n",
    "\n",
    "Your assignment is to try to build a model(s) that will be higher than the **80%** accuracy threshold on the test data.\n",
    "\n",
    "*Tips:* <br>\n",
    "\n",
    "- Use different models (Random Forest, logistic regression, SVM and more)\n",
    "- Try hyperparameter-tuning these models - make sure you read the sklearn - - documentation for each model.\n",
    "- Investigate engineering new features for your model.\n",
    "\n",
    "*Submission details:*<br>\n",
    "\n",
    "The submission details are available in Assignment for week 2\n"
   ]
  },
  {
   "cell_type": "code",
   "execution_count": 148,
   "metadata": {},
   "outputs": [],
   "source": [
    "# Second Implementation- Logistic Regression"
   ]
  },
  {
   "cell_type": "code",
   "execution_count": 1,
   "metadata": {},
   "outputs": [],
   "source": [
    "import numpy as np # linear algebra\n",
    "import pandas as pd # data processing, CSV file I/O (e.g. pd.read_csv)\n",
    "import seaborn as sns # For creating plots\n",
    "import matplotlib.ticker as mtick # For specifying the axes tick format \n",
    "import matplotlib.pyplot as plt\n"
   ]
  },
  {
   "cell_type": "code",
   "execution_count": 2,
   "metadata": {},
   "outputs": [],
   "source": [
    "telcom = pd.read_csv(\"D:/Data/Northeastern University/Applications of AI/Module 2/telco.csv\")"
   ]
  },
  {
   "cell_type": "code",
   "execution_count": 3,
   "metadata": {},
   "outputs": [
    {
     "data": {
      "text/html": [
       "<div>\n",
       "<style scoped>\n",
       "    .dataframe tbody tr th:only-of-type {\n",
       "        vertical-align: middle;\n",
       "    }\n",
       "\n",
       "    .dataframe tbody tr th {\n",
       "        vertical-align: top;\n",
       "    }\n",
       "\n",
       "    .dataframe thead th {\n",
       "        text-align: right;\n",
       "    }\n",
       "</style>\n",
       "<table border=\"1\" class=\"dataframe\">\n",
       "  <thead>\n",
       "    <tr style=\"text-align: right;\">\n",
       "      <th></th>\n",
       "      <th>Unnamed: 0</th>\n",
       "      <th>customerID</th>\n",
       "      <th>gender</th>\n",
       "      <th>SeniorCitizen</th>\n",
       "      <th>Partner</th>\n",
       "      <th>Dependents</th>\n",
       "      <th>tenure</th>\n",
       "      <th>PhoneService</th>\n",
       "      <th>MultipleLines</th>\n",
       "      <th>InternetService</th>\n",
       "      <th>...</th>\n",
       "      <th>DeviceProtection</th>\n",
       "      <th>TechSupport</th>\n",
       "      <th>StreamingTV</th>\n",
       "      <th>StreamingMovies</th>\n",
       "      <th>Contract</th>\n",
       "      <th>PaperlessBilling</th>\n",
       "      <th>PaymentMethod</th>\n",
       "      <th>MonthlyCharges</th>\n",
       "      <th>TotalCharges</th>\n",
       "      <th>Churn</th>\n",
       "    </tr>\n",
       "  </thead>\n",
       "  <tbody>\n",
       "    <tr>\n",
       "      <th>0</th>\n",
       "      <td>0</td>\n",
       "      <td>7590-VHVEG</td>\n",
       "      <td>Female</td>\n",
       "      <td>No</td>\n",
       "      <td>Yes</td>\n",
       "      <td>No</td>\n",
       "      <td>1</td>\n",
       "      <td>No</td>\n",
       "      <td>No phone service</td>\n",
       "      <td>DSL</td>\n",
       "      <td>...</td>\n",
       "      <td>No</td>\n",
       "      <td>No</td>\n",
       "      <td>No</td>\n",
       "      <td>No</td>\n",
       "      <td>Month-to-month</td>\n",
       "      <td>Yes</td>\n",
       "      <td>Electronic check</td>\n",
       "      <td>29.85</td>\n",
       "      <td>29.85</td>\n",
       "      <td>Stayed</td>\n",
       "    </tr>\n",
       "    <tr>\n",
       "      <th>1</th>\n",
       "      <td>1</td>\n",
       "      <td>5575-GNVDE</td>\n",
       "      <td>Male</td>\n",
       "      <td>No</td>\n",
       "      <td>No</td>\n",
       "      <td>No</td>\n",
       "      <td>34</td>\n",
       "      <td>Yes</td>\n",
       "      <td>No</td>\n",
       "      <td>DSL</td>\n",
       "      <td>...</td>\n",
       "      <td>Yes</td>\n",
       "      <td>No</td>\n",
       "      <td>No</td>\n",
       "      <td>No</td>\n",
       "      <td>One year</td>\n",
       "      <td>No</td>\n",
       "      <td>Mailed check</td>\n",
       "      <td>56.95</td>\n",
       "      <td>1889.5</td>\n",
       "      <td>Stayed</td>\n",
       "    </tr>\n",
       "    <tr>\n",
       "      <th>2</th>\n",
       "      <td>2</td>\n",
       "      <td>3668-QPYBK</td>\n",
       "      <td>Male</td>\n",
       "      <td>No</td>\n",
       "      <td>No</td>\n",
       "      <td>No</td>\n",
       "      <td>2</td>\n",
       "      <td>Yes</td>\n",
       "      <td>No</td>\n",
       "      <td>DSL</td>\n",
       "      <td>...</td>\n",
       "      <td>No</td>\n",
       "      <td>No</td>\n",
       "      <td>No</td>\n",
       "      <td>No</td>\n",
       "      <td>Month-to-month</td>\n",
       "      <td>Yes</td>\n",
       "      <td>Mailed check</td>\n",
       "      <td>53.85</td>\n",
       "      <td>108.15</td>\n",
       "      <td>Churned</td>\n",
       "    </tr>\n",
       "    <tr>\n",
       "      <th>3</th>\n",
       "      <td>3</td>\n",
       "      <td>7795-CFOCW</td>\n",
       "      <td>Male</td>\n",
       "      <td>No</td>\n",
       "      <td>No</td>\n",
       "      <td>No</td>\n",
       "      <td>45</td>\n",
       "      <td>No</td>\n",
       "      <td>No phone service</td>\n",
       "      <td>DSL</td>\n",
       "      <td>...</td>\n",
       "      <td>Yes</td>\n",
       "      <td>Yes</td>\n",
       "      <td>No</td>\n",
       "      <td>No</td>\n",
       "      <td>One year</td>\n",
       "      <td>No</td>\n",
       "      <td>Bank transfer (automatic)</td>\n",
       "      <td>42.30</td>\n",
       "      <td>1840.75</td>\n",
       "      <td>Stayed</td>\n",
       "    </tr>\n",
       "    <tr>\n",
       "      <th>4</th>\n",
       "      <td>4</td>\n",
       "      <td>9237-HQITU</td>\n",
       "      <td>Female</td>\n",
       "      <td>No</td>\n",
       "      <td>No</td>\n",
       "      <td>No</td>\n",
       "      <td>2</td>\n",
       "      <td>Yes</td>\n",
       "      <td>No</td>\n",
       "      <td>Fiber optic</td>\n",
       "      <td>...</td>\n",
       "      <td>No</td>\n",
       "      <td>No</td>\n",
       "      <td>No</td>\n",
       "      <td>No</td>\n",
       "      <td>Month-to-month</td>\n",
       "      <td>Yes</td>\n",
       "      <td>Electronic check</td>\n",
       "      <td>70.70</td>\n",
       "      <td>151.65</td>\n",
       "      <td>Churned</td>\n",
       "    </tr>\n",
       "  </tbody>\n",
       "</table>\n",
       "<p>5 rows × 22 columns</p>\n",
       "</div>"
      ],
      "text/plain": [
       "   Unnamed: 0  customerID  gender SeniorCitizen Partner Dependents  tenure  \\\n",
       "0           0  7590-VHVEG  Female            No     Yes         No       1   \n",
       "1           1  5575-GNVDE    Male            No      No         No      34   \n",
       "2           2  3668-QPYBK    Male            No      No         No       2   \n",
       "3           3  7795-CFOCW    Male            No      No         No      45   \n",
       "4           4  9237-HQITU  Female            No      No         No       2   \n",
       "\n",
       "  PhoneService     MultipleLines InternetService  ... DeviceProtection  \\\n",
       "0           No  No phone service             DSL  ...               No   \n",
       "1          Yes                No             DSL  ...              Yes   \n",
       "2          Yes                No             DSL  ...               No   \n",
       "3           No  No phone service             DSL  ...              Yes   \n",
       "4          Yes                No     Fiber optic  ...               No   \n",
       "\n",
       "  TechSupport StreamingTV StreamingMovies        Contract PaperlessBilling  \\\n",
       "0          No          No              No  Month-to-month              Yes   \n",
       "1          No          No              No        One year               No   \n",
       "2          No          No              No  Month-to-month              Yes   \n",
       "3         Yes          No              No        One year               No   \n",
       "4          No          No              No  Month-to-month              Yes   \n",
       "\n",
       "               PaymentMethod MonthlyCharges TotalCharges    Churn  \n",
       "0           Electronic check          29.85        29.85   Stayed  \n",
       "1               Mailed check          56.95       1889.5   Stayed  \n",
       "2               Mailed check          53.85       108.15  Churned  \n",
       "3  Bank transfer (automatic)          42.30      1840.75   Stayed  \n",
       "4           Electronic check          70.70       151.65  Churned  \n",
       "\n",
       "[5 rows x 22 columns]"
      ]
     },
     "execution_count": 3,
     "metadata": {},
     "output_type": "execute_result"
    }
   ],
   "source": [
    "telcom.head()"
   ]
  },
  {
   "cell_type": "code",
   "execution_count": 4,
   "metadata": {},
   "outputs": [
    {
     "data": {
      "text/plain": [
       "array(['Unnamed: 0', 'customerID', 'gender', 'SeniorCitizen', 'Partner',\n",
       "       'Dependents', 'tenure', 'PhoneService', 'MultipleLines',\n",
       "       'InternetService', 'OnlineSecurity', 'OnlineBackup',\n",
       "       'DeviceProtection', 'TechSupport', 'StreamingTV',\n",
       "       'StreamingMovies', 'Contract', 'PaperlessBilling', 'PaymentMethod',\n",
       "       'MonthlyCharges', 'TotalCharges', 'Churn'], dtype=object)"
      ]
     },
     "execution_count": 4,
     "metadata": {},
     "output_type": "execute_result"
    }
   ],
   "source": [
    "telcom.columns.values"
   ]
  },
  {
   "cell_type": "code",
   "execution_count": 5,
   "metadata": {},
   "outputs": [
    {
     "data": {
      "text/plain": [
       "Unnamed: 0            int64\n",
       "customerID           object\n",
       "gender               object\n",
       "SeniorCitizen        object\n",
       "Partner              object\n",
       "Dependents           object\n",
       "tenure                int64\n",
       "PhoneService         object\n",
       "MultipleLines        object\n",
       "InternetService      object\n",
       "OnlineSecurity       object\n",
       "OnlineBackup         object\n",
       "DeviceProtection     object\n",
       "TechSupport          object\n",
       "StreamingTV          object\n",
       "StreamingMovies      object\n",
       "Contract             object\n",
       "PaperlessBilling     object\n",
       "PaymentMethod        object\n",
       "MonthlyCharges      float64\n",
       "TotalCharges         object\n",
       "Churn                object\n",
       "dtype: object"
      ]
     },
     "execution_count": 5,
     "metadata": {},
     "output_type": "execute_result"
    }
   ],
   "source": [
    "# Checking the data types of all the columns\n",
    "telcom.dtypes"
   ]
  },
  {
   "cell_type": "code",
   "execution_count": 6,
   "metadata": {},
   "outputs": [
    {
     "data": {
      "text/plain": [
       "Unnamed: 0           0\n",
       "customerID           0\n",
       "gender               0\n",
       "SeniorCitizen        0\n",
       "Partner              0\n",
       "Dependents           0\n",
       "tenure               0\n",
       "PhoneService         0\n",
       "MultipleLines        0\n",
       "InternetService      0\n",
       "OnlineSecurity       0\n",
       "OnlineBackup         0\n",
       "DeviceProtection     0\n",
       "TechSupport          0\n",
       "StreamingTV          0\n",
       "StreamingMovies      0\n",
       "Contract             0\n",
       "PaperlessBilling     0\n",
       "PaymentMethod        0\n",
       "MonthlyCharges       0\n",
       "TotalCharges        11\n",
       "Churn                0\n",
       "dtype: int64"
      ]
     },
     "execution_count": 6,
     "metadata": {},
     "output_type": "execute_result"
    }
   ],
   "source": [
    "# Converting Total Charges to a numerical data type.\n",
    "telcom.TotalCharges = pd.to_numeric(telcom.TotalCharges, errors='coerce')\n",
    "telcom.isnull().sum()"
   ]
  },
  {
   "cell_type": "code",
   "execution_count": 7,
   "metadata": {},
   "outputs": [
    {
     "data": {
      "text/html": [
       "<div>\n",
       "<style scoped>\n",
       "    .dataframe tbody tr th:only-of-type {\n",
       "        vertical-align: middle;\n",
       "    }\n",
       "\n",
       "    .dataframe tbody tr th {\n",
       "        vertical-align: top;\n",
       "    }\n",
       "\n",
       "    .dataframe thead th {\n",
       "        text-align: right;\n",
       "    }\n",
       "</style>\n",
       "<table border=\"1\" class=\"dataframe\">\n",
       "  <thead>\n",
       "    <tr style=\"text-align: right;\">\n",
       "      <th></th>\n",
       "      <th>tenure</th>\n",
       "      <th>MonthlyCharges</th>\n",
       "      <th>TotalCharges</th>\n",
       "      <th>Churn</th>\n",
       "      <th>customerID_0002-ORFBO</th>\n",
       "      <th>customerID_0003-MKNFE</th>\n",
       "      <th>customerID_0004-TLHLJ</th>\n",
       "      <th>customerID_0011-IGKFF</th>\n",
       "      <th>customerID_0013-EXCHZ</th>\n",
       "      <th>customerID_0013-MHZWF</th>\n",
       "      <th>...</th>\n",
       "      <th>StreamingMovies_Yes</th>\n",
       "      <th>Contract_Month-to-month</th>\n",
       "      <th>Contract_One year</th>\n",
       "      <th>Contract_Two year</th>\n",
       "      <th>PaperlessBilling_No</th>\n",
       "      <th>PaperlessBilling_Yes</th>\n",
       "      <th>PaymentMethod_Bank transfer (automatic)</th>\n",
       "      <th>PaymentMethod_Credit card (automatic)</th>\n",
       "      <th>PaymentMethod_Electronic check</th>\n",
       "      <th>PaymentMethod_Mailed check</th>\n",
       "    </tr>\n",
       "  </thead>\n",
       "  <tbody>\n",
       "    <tr>\n",
       "      <th>0</th>\n",
       "      <td>1</td>\n",
       "      <td>29.85</td>\n",
       "      <td>29.85</td>\n",
       "      <td>0</td>\n",
       "      <td>0</td>\n",
       "      <td>0</td>\n",
       "      <td>0</td>\n",
       "      <td>0</td>\n",
       "      <td>0</td>\n",
       "      <td>0</td>\n",
       "      <td>...</td>\n",
       "      <td>0</td>\n",
       "      <td>1</td>\n",
       "      <td>0</td>\n",
       "      <td>0</td>\n",
       "      <td>0</td>\n",
       "      <td>1</td>\n",
       "      <td>0</td>\n",
       "      <td>0</td>\n",
       "      <td>1</td>\n",
       "      <td>0</td>\n",
       "    </tr>\n",
       "    <tr>\n",
       "      <th>1</th>\n",
       "      <td>34</td>\n",
       "      <td>56.95</td>\n",
       "      <td>1889.50</td>\n",
       "      <td>0</td>\n",
       "      <td>0</td>\n",
       "      <td>0</td>\n",
       "      <td>0</td>\n",
       "      <td>0</td>\n",
       "      <td>0</td>\n",
       "      <td>0</td>\n",
       "      <td>...</td>\n",
       "      <td>0</td>\n",
       "      <td>0</td>\n",
       "      <td>1</td>\n",
       "      <td>0</td>\n",
       "      <td>1</td>\n",
       "      <td>0</td>\n",
       "      <td>0</td>\n",
       "      <td>0</td>\n",
       "      <td>0</td>\n",
       "      <td>1</td>\n",
       "    </tr>\n",
       "    <tr>\n",
       "      <th>2</th>\n",
       "      <td>2</td>\n",
       "      <td>53.85</td>\n",
       "      <td>108.15</td>\n",
       "      <td>1</td>\n",
       "      <td>0</td>\n",
       "      <td>0</td>\n",
       "      <td>0</td>\n",
       "      <td>0</td>\n",
       "      <td>0</td>\n",
       "      <td>0</td>\n",
       "      <td>...</td>\n",
       "      <td>0</td>\n",
       "      <td>1</td>\n",
       "      <td>0</td>\n",
       "      <td>0</td>\n",
       "      <td>0</td>\n",
       "      <td>1</td>\n",
       "      <td>0</td>\n",
       "      <td>0</td>\n",
       "      <td>0</td>\n",
       "      <td>1</td>\n",
       "    </tr>\n",
       "    <tr>\n",
       "      <th>3</th>\n",
       "      <td>45</td>\n",
       "      <td>42.30</td>\n",
       "      <td>1840.75</td>\n",
       "      <td>0</td>\n",
       "      <td>0</td>\n",
       "      <td>0</td>\n",
       "      <td>0</td>\n",
       "      <td>0</td>\n",
       "      <td>0</td>\n",
       "      <td>0</td>\n",
       "      <td>...</td>\n",
       "      <td>0</td>\n",
       "      <td>0</td>\n",
       "      <td>1</td>\n",
       "      <td>0</td>\n",
       "      <td>1</td>\n",
       "      <td>0</td>\n",
       "      <td>1</td>\n",
       "      <td>0</td>\n",
       "      <td>0</td>\n",
       "      <td>0</td>\n",
       "    </tr>\n",
       "    <tr>\n",
       "      <th>4</th>\n",
       "      <td>2</td>\n",
       "      <td>70.70</td>\n",
       "      <td>151.65</td>\n",
       "      <td>1</td>\n",
       "      <td>0</td>\n",
       "      <td>0</td>\n",
       "      <td>0</td>\n",
       "      <td>0</td>\n",
       "      <td>0</td>\n",
       "      <td>0</td>\n",
       "      <td>...</td>\n",
       "      <td>0</td>\n",
       "      <td>1</td>\n",
       "      <td>0</td>\n",
       "      <td>0</td>\n",
       "      <td>0</td>\n",
       "      <td>1</td>\n",
       "      <td>0</td>\n",
       "      <td>0</td>\n",
       "      <td>1</td>\n",
       "      <td>0</td>\n",
       "    </tr>\n",
       "  </tbody>\n",
       "</table>\n",
       "<p>5 rows × 7080 columns</p>\n",
       "</div>"
      ],
      "text/plain": [
       "   tenure  MonthlyCharges  TotalCharges  Churn  customerID_0002-ORFBO  \\\n",
       "0       1           29.85         29.85      0                      0   \n",
       "1      34           56.95       1889.50      0                      0   \n",
       "2       2           53.85        108.15      1                      0   \n",
       "3      45           42.30       1840.75      0                      0   \n",
       "4       2           70.70        151.65      1                      0   \n",
       "\n",
       "   customerID_0003-MKNFE  customerID_0004-TLHLJ  customerID_0011-IGKFF  \\\n",
       "0                      0                      0                      0   \n",
       "1                      0                      0                      0   \n",
       "2                      0                      0                      0   \n",
       "3                      0                      0                      0   \n",
       "4                      0                      0                      0   \n",
       "\n",
       "   customerID_0013-EXCHZ  customerID_0013-MHZWF  ...  StreamingMovies_Yes  \\\n",
       "0                      0                      0  ...                    0   \n",
       "1                      0                      0  ...                    0   \n",
       "2                      0                      0  ...                    0   \n",
       "3                      0                      0  ...                    0   \n",
       "4                      0                      0  ...                    0   \n",
       "\n",
       "   Contract_Month-to-month  Contract_One year  Contract_Two year  \\\n",
       "0                        1                  0                  0   \n",
       "1                        0                  1                  0   \n",
       "2                        1                  0                  0   \n",
       "3                        0                  1                  0   \n",
       "4                        1                  0                  0   \n",
       "\n",
       "   PaperlessBilling_No  PaperlessBilling_Yes  \\\n",
       "0                    0                     1   \n",
       "1                    1                     0   \n",
       "2                    0                     1   \n",
       "3                    1                     0   \n",
       "4                    0                     1   \n",
       "\n",
       "   PaymentMethod_Bank transfer (automatic)  \\\n",
       "0                                        0   \n",
       "1                                        0   \n",
       "2                                        0   \n",
       "3                                        1   \n",
       "4                                        0   \n",
       "\n",
       "   PaymentMethod_Credit card (automatic)  PaymentMethod_Electronic check  \\\n",
       "0                                      0                               1   \n",
       "1                                      0                               0   \n",
       "2                                      0                               0   \n",
       "3                                      0                               0   \n",
       "4                                      0                               1   \n",
       "\n",
       "   PaymentMethod_Mailed check  \n",
       "0                           0  \n",
       "1                           1  \n",
       "2                           1  \n",
       "3                           0  \n",
       "4                           0  \n",
       "\n",
       "[5 rows x 7080 columns]"
      ]
     },
     "execution_count": 7,
     "metadata": {},
     "output_type": "execute_result"
    }
   ],
   "source": [
    "#Removing missing values \n",
    "telcom.dropna(inplace = True)\n",
    "#Remove customer IDs from the data set\n",
    "df2 = telcom.iloc[:,1:]\n",
    "#Convertin the predictor variable in a binary numeric variable\n",
    "df2['Churn'].replace(to_replace='Churned', value=1, inplace=True)\n",
    "df2['Churn'].replace(to_replace='Stayed',  value=0, inplace=True)\n",
    "\n",
    "#Let's convert all the categorical variables into dummy variables\n",
    "df_dummies = pd.get_dummies(df2)\n",
    "df_dummies.head()"
   ]
  },
  {
   "cell_type": "code",
   "execution_count": 8,
   "metadata": {},
   "outputs": [],
   "source": [
    "# We will use the data frame where we had created dummy variables\n",
    "y = df_dummies['Churn'].values\n",
    "X = df_dummies.drop(columns = ['Churn'])"
   ]
  },
  {
   "cell_type": "code",
   "execution_count": 9,
   "metadata": {},
   "outputs": [],
   "source": [
    "# Scaling all the variables to a range of 0 to 1\n",
    "from sklearn.preprocessing import MinMaxScaler\n",
    "features = X.columns.values\n",
    "scaler = MinMaxScaler(feature_range = (0,1))\n",
    "scaler.fit(X)\n",
    "X = pd.DataFrame(scaler.transform(X))\n",
    "X.columns = features"
   ]
  },
  {
   "cell_type": "code",
   "execution_count": 10,
   "metadata": {},
   "outputs": [],
   "source": [
    "from sklearn.model_selection import train_test_split\n",
    "X_train, X_test, y_train, y_test = train_test_split(X, y, test_size=0.3, random_state=101)"
   ]
  },
  {
   "cell_type": "code",
   "execution_count": 11,
   "metadata": {},
   "outputs": [
    {
     "name": "stderr",
     "output_type": "stream",
     "text": [
      "E:\\Anaconda\\lib\\site-packages\\sklearn\\linear_model\\_logistic.py:940: ConvergenceWarning: lbfgs failed to converge (status=1):\n",
      "STOP: TOTAL NO. of ITERATIONS REACHED LIMIT.\n",
      "\n",
      "Increase the number of iterations (max_iter) or scale the data as shown in:\n",
      "    https://scikit-learn.org/stable/modules/preprocessing.html\n",
      "Please also refer to the documentation for alternative solver options:\n",
      "    https://scikit-learn.org/stable/modules/linear_model.html#logistic-regression\n",
      "  extra_warning_msg=_LOGISTIC_SOLVER_CONVERGENCE_MSG)\n"
     ]
    }
   ],
   "source": [
    "from sklearn.linear_model import LogisticRegression\n",
    "model = LogisticRegression()\n",
    "result = model.fit(X_train, y_train)"
   ]
  },
  {
   "cell_type": "code",
   "execution_count": 12,
   "metadata": {},
   "outputs": [
    {
     "name": "stdout",
     "output_type": "stream",
     "text": [
      "0.8056872037914692\n"
     ]
    }
   ],
   "source": [
    "from sklearn import metrics\n",
    "prediction_test = model.predict(X_test)\n",
    "# Print the prediction accuracy\n",
    "print (metrics.accuracy_score(y_test, prediction_test))"
   ]
  },
  {
   "cell_type": "code",
   "execution_count": null,
   "metadata": {},
   "outputs": [],
   "source": [
    "#Random Forest"
   ]
  },
  {
   "cell_type": "code",
   "execution_count": 13,
   "metadata": {},
   "outputs": [
    {
     "name": "stdout",
     "output_type": "stream",
     "text": [
      "0.7732764747690121\n"
     ]
    }
   ],
   "source": [
    "from sklearn.ensemble import RandomForestClassifier\n",
    "X_train, X_test, y_train, y_test = train_test_split(X, y, test_size=0.2, random_state=101)\n",
    "model_rf = RandomForestClassifier(n_estimators=1000 , oob_score = True, n_jobs = -1,\n",
    "                                  random_state =50, max_features = \"auto\",\n",
    "                                  max_leaf_nodes = 30)\n",
    "model_rf.fit(X_train, y_train)\n",
    "\n",
    "# Make predictions\n",
    "prediction_test = model_rf.predict(X_test)\n",
    "print (metrics.accuracy_score(y_test, prediction_test))"
   ]
  },
  {
   "cell_type": "code",
   "execution_count": null,
   "metadata": {},
   "outputs": [],
   "source": []
  },
  {
   "cell_type": "code",
   "execution_count": 14,
   "metadata": {},
   "outputs": [],
   "source": [
    "X_train, X_test, y_train, y_test = train_test_split(X, y, test_size=0.2, random_state=99)"
   ]
  },
  {
   "cell_type": "code",
   "execution_count": 15,
   "metadata": {},
   "outputs": [
    {
     "data": {
      "text/plain": [
       "0.8208955223880597"
      ]
     },
     "execution_count": 15,
     "metadata": {},
     "output_type": "execute_result"
    }
   ],
   "source": [
    "from sklearn.svm import SVC\n",
    "\n",
    "model.svm = SVC(kernel='linear') \n",
    "model.svm.fit(X_train,y_train)\n",
    "preds = model.svm.predict(X_test)\n",
    "metrics.accuracy_score(y_test, preds)"
   ]
  },
  {
   "cell_type": "code",
   "execution_count": null,
   "metadata": {},
   "outputs": [],
   "source": []
  }
 ],
 "metadata": {
  "colab": {
   "name": "Machine learning with scikit learn_solution.ipynb",
   "provenance": []
  },
  "kernelspec": {
   "display_name": "Python 3",
   "language": "python",
   "name": "python3"
  },
  "language_info": {
   "codemirror_mode": {
    "name": "ipython",
    "version": 3
   },
   "file_extension": ".py",
   "mimetype": "text/x-python",
   "name": "python",
   "nbconvert_exporter": "python",
   "pygments_lexer": "ipython3",
   "version": "3.7.6"
  }
 },
 "nbformat": 4,
 "nbformat_minor": 1
}
